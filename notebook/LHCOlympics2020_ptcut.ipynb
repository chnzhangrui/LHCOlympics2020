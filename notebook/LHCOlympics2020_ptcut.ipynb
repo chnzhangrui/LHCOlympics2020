{
 "cells": [
  {
   "cell_type": "code",
   "execution_count": 28,
   "metadata": {},
   "outputs": [],
   "source": [
    "import os.path\n",
    "import h5py\n",
    "import numpy as np\n",
    "from numpy import array\n",
    "import matplotlib.pyplot as plt\n",
    "import pandas as pd"
   ]
  },
  {
   "cell_type": "code",
   "execution_count": 29,
   "metadata": {},
   "outputs": [],
   "source": [
    "H5output = '../h5files/'"
   ]
  },
  {
   "cell_type": "code",
   "execution_count": 64,
   "metadata": {},
   "outputs": [],
   "source": [
    "def readJets(mytype, filename = 'LargeRjets.h5'):\n",
    "    savename = H5output + mytype + '_' + filename\n",
    "    if not os.path.exists(savename):\n",
    "        return\n",
    "    process = pd.read_hdf(savename, key=mytype)\n",
    "    return process"
   ]
  },
  {
   "cell_type": "code",
   "execution_count": 65,
   "metadata": {},
   "outputs": [],
   "source": [
    "def retrievePT(name):\n",
    "    \n",
    "    variable = {}\n",
    "    for mytype in ['signal', 'background']:\n",
    "        processes = readJets(mytype = mytype)\n",
    "        variable[mytype] = []\n",
    "        variable[mytype].extend(processes[name].values)\n",
    "    \n",
    "    return variable\n",
    "\n",
    "def plotPt(name, variable):\n",
    "    \n",
    "    fig = plt.figure()\n",
    "    ax = fig.add_subplot(1, 1, 1)\n",
    "    n,b,p = plt.hist(variable['background'], bins=50, facecolor='r', alpha=0.2,label='background')\n",
    "    plt.hist(variable['signal'], bins=b, facecolor='b', alpha=0.2,label='signal')\n",
    "    plt.xlabel(name)\n",
    "    plt.ylabel('Number of events')\n",
    "    plt.legend(loc='upper right')\n",
    "    plt.savefig(name + '.pdf')"
   ]
  },
  {
   "cell_type": "code",
   "execution_count": 68,
   "metadata": {},
   "outputs": [
    {
     "ename": "NameError",
     "evalue": "name 'plotPT' is not defined",
     "output_type": "error",
     "traceback": [
      "\u001b[0;31m---------------------------------------------------------------------------\u001b[0m",
      "\u001b[0;31mNameError\u001b[0m                                 Traceback (most recent call last)",
      "\u001b[0;32m<ipython-input-68-443f5fb5dd21>\u001b[0m in \u001b[0;36m<module>\u001b[0;34m\u001b[0m\n\u001b[1;32m      3\u001b[0m \u001b[0mplotPt\u001b[0m\u001b[0;34m(\u001b[0m\u001b[0;34m'pt_jet1'\u001b[0m\u001b[0;34m,\u001b[0m \u001b[0mvariable\u001b[0m\u001b[0;34m)\u001b[0m\u001b[0;34m\u001b[0m\u001b[0m\n\u001b[1;32m      4\u001b[0m \u001b[0mretrievePT\u001b[0m\u001b[0;34m(\u001b[0m\u001b[0;34m'pt_jet2'\u001b[0m\u001b[0;34m)\u001b[0m\u001b[0;34m\u001b[0m\u001b[0m\n\u001b[0;32m----> 5\u001b[0;31m \u001b[0mplotPT\u001b[0m\u001b[0;34m(\u001b[0m\u001b[0;34m'pt_jet2'\u001b[0m\u001b[0;34m)\u001b[0m\u001b[0;34m\u001b[0m\u001b[0m\n\u001b[0m\u001b[1;32m      6\u001b[0m \u001b[0mretrievePT\u001b[0m\u001b[0;34m(\u001b[0m\u001b[0;34m'pt_jet3'\u001b[0m\u001b[0;34m)\u001b[0m\u001b[0;34m\u001b[0m\u001b[0m\n\u001b[1;32m      7\u001b[0m \u001b[0mplotPT\u001b[0m\u001b[0;34m(\u001b[0m\u001b[0;34m'pt_jet3'\u001b[0m\u001b[0;34m)\u001b[0m\u001b[0;34m\u001b[0m\u001b[0m\n",
      "\u001b[0;31mNameError\u001b[0m: name 'plotPT' is not defined"
     ]
    },
    {
     "data": {
      "image/png": "[encoded data removed]",
      "text/plain": [
       "<Figure size 432x288 with 1 Axes>"
      ]
     },
     "metadata": {
      "needs_background": "light"
     },
     "output_type": "display_data"
    }
   ],
   "source": [
    "plotPt('pt_jet1', retrievePT('pt_jet1'))        \n",
    "plotPt('pt_jet2', retrievePT('pt_jet2'))        \n",
    "plotPt('pt_jet3', retrievePT('pt_jet3'))        \n"
   ]
  },
  {
   "cell_type": "code",
   "execution_count": null,
   "metadata": {},
   "outputs": [],
   "source": []
  },
  {
   "cell_type": "code",
   "execution_count": null,
   "metadata": {},
   "outputs": [],
   "source": []
  }
 ],
 "metadata": {
  "kernelspec": {
   "display_name": "Python 3",
   "language": "python",
   "name": "python3"
  },
  "language_info": {
   "codemirror_mode": {
    "name": "ipython",
    "version": 3
   },
   "file_extension": ".py",
   "mimetype": "text/x-python",
   "name": "python",
   "nbconvert_exporter": "python",
   "pygments_lexer": "ipython3",
   "version": "3.7.0"
  }
 },
 "nbformat": 4,
 "nbformat_minor": 2
}

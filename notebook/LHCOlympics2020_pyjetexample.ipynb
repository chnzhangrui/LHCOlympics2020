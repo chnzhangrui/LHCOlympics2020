{
 "cells": [
  {
   "cell_type": "code",
   "execution_count": 1,
   "metadata": {},
   "outputs": [],
   "source": [
    "import h5py    \n",
    "import numpy as np \n",
    "import matplotlib.pyplot as plt\n",
    "from pyjet import cluster,DTYPE_PTEPM\n",
    "import pandas as pd"
   ]
  },
  {
   "cell_type": "code",
   "execution_count": 2,
   "metadata": {},
   "outputs": [],
   "source": [
    "f = pd.read_hdf('../h5files/events_anomalydetection.h5', stop=10000) #read only first 'stop' events"
   ]
  },
  {
   "cell_type": "code",
   "execution_count": 3,
   "metadata": {},
   "outputs": [],
   "source": [
    "events_combined = f.T"
   ]
  },
  {
   "cell_type": "code",
   "execution_count": 4,
   "metadata": {},
   "outputs": [
    {
     "data": {
      "text/plain": [
       "(2101, 10000)"
      ]
     },
     "execution_count": 4,
     "metadata": {},
     "output_type": "execute_result"
    }
   ],
   "source": [
    "np.shape(events_combined)\n"
   ]
  },
  {
   "cell_type": "code",
   "execution_count": 131,
   "metadata": {
    "scrolled": true
   },
   "outputs": [
    {
     "name": "stdout",
     "output_type": "stream",
     "text": [
      "background 0\n",
      "(109, 3)\n",
      "2\n",
      "(208, 3)\n",
      "3\n",
      "signal 0\n"
     ]
    }
   ],
   "source": [
    "#Now, let's cluster some jets more efficiently!\n",
    "all_largeRjets = {}\n",
    "all_smallRjets = {}\n",
    "all_hadrons = {}\n",
    "for mytype in ['background','signal']:\n",
    "    all_largeRjets[mytype]=[]\n",
    "    all_smallRjets[mytype]=[]\n",
    "    all_hadrons[mytype]=[]\n",
    "    \n",
    "    for ievt in range(2): #len(events_combined)):\n",
    "        if ievt%10000==0:\n",
    "            print(mytype,ievt)\n",
    "        issignal = events_combined[ievt][2100]\n",
    "        if (mytype=='background' and issignal):\n",
    "            continue\n",
    "        elif (mytype=='signal' and issignal==0):\n",
    "            continue\n",
    "        pseudojets_input = np.zeros(len([x for x in events_combined[ievt][::3] if x > 0]), dtype=DTYPE_PTEPM)\n",
    "        events_filled = events_combined[ievt][:np.shape(pseudojets_input)[0]*3].values.reshape(np.shape(pseudojets_input)[0], 3)\n",
    "\n",
    "        pseudojets_input['pT'] = events_filled[:, 0]\n",
    "        pseudojets_input['eta'] = events_filled[:, 1]\n",
    "        pseudojets_input['phi'] = events_filled[:, 2]\n",
    "        print(np.shape(events_filled))\n",
    "        largeR = cluster(pseudojets_input, R=1.0, p=-1)\n",
    "        largeRjets = largeR.inclusive_jets(ptmin=20)\n",
    "        print(len(largeRjets))\n",
    "        smallR = cluster(pseudojets_input, R=0.4, p=-1)\n",
    "        smallRjets = smallR.inclusive_jets(ptmin=20)\n",
    "\n",
    "        all_largeRjets[mytype] += [largeRjets]\n",
    "        all_smallRjets[mytype] += [smallRjets]\n",
    "        all_hadrons[mytype] += [pseudojets_input]\n",
    "\n"
   ]
  },
  {
   "cell_type": "code",
   "execution_count": 128,
   "metadata": {},
   "outputs": [],
   "source": [
    "def getJet(alljets, index):\n",
    "    jet = {}\n",
    "    for mytype in ['background','signal']:\n",
    "        jet[mytype]={'pt':[], 'eta':[], 'phi':[]}\n",
    "        for ievt in range(len(all_largeRjets[mytype])):\n",
    "            jet[mytype]['pt'] += [alljets[mytype][ievt][index].pt]\n",
    "            jet[mytype]['eta'] += [alljets[mytype][ievt][index].eta]\n",
    "            jet[mytype]['phi'] += [alljets[mytype][ievt][index].phi]\n",
    "    return jet\n",
    "\n",
    "# lead_largeRjets, sublead_largeRjets = getJet(all_largeRjets, 0), getJet(all_largeRjets, 1)\n",
    "lead_smallRjets, sublead_smallRjets = getJet(all_smallRjets, 0), getJet(all_smallRjets, 1)\n",
    "# print(lead_largeRjets)\n",
    "# print(sublead_largeRjets)\n",
    "# print(lead_smallRjets)\n",
    "# print(sublead_smallRjets)\n"
   ]
  },
  {
   "cell_type": "code",
   "execution_count": 129,
   "metadata": {},
   "outputs": [
    {
     "name": "stdout",
     "output_type": "stream",
     "text": [
      "[PseudoJet(pt=1356.243, eta=0.825, phi=1.364, mass=624.791), PseudoJet(pt=1335.325, eta=-0.880, phi=-1.773, mass=536.158)]\n"
     ]
    }
   ],
   "source": [
    "print(all_largeRjets['background'][1])"
   ]
  },
  {
   "cell_type": "code",
   "execution_count": 130,
   "metadata": {},
   "outputs": [
    {
     "name": "stdout",
     "output_type": "stream",
     "text": [
      "[PseudoJet(pt=1356.243, eta=0.825, phi=1.364, mass=624.791), PseudoJet(pt=1335.325, eta=-0.880, phi=-1.773, mass=536.158)]\n",
      "0 88\n",
      "1 107\n"
     ]
    },
    {
     "data": {
      "image/png": "[encoded data removed]",
      "text/plain": [
       "<Figure size 648x216 with 1 Axes>"
      ]
     },
     "metadata": {
      "needs_background": "light"
     },
     "output_type": "display_data"
    }
   ],
   "source": [
    "from matplotlib.pyplot import cm\n",
    "from matplotlib.colors import LinearSegmentedColormap\n",
    "\n",
    "def plot_jet_area(alljets = all_largeRjets, mytype = 'background', ievt = 0):\n",
    "    # pick a different color for each jet\n",
    "    eta_min, eta_max = -5., 5.\n",
    "    extent = eta_min, eta_max, -np.pi, np.pi\n",
    "    fig = plt.figure(figsize=(9, 3))\n",
    "    colors = cm.rainbow(np.linspace(0, 1, len(alljets[mytype][ievt])))\n",
    "    cmap = LinearSegmentedColormap.from_list('cmap', colors, len(colors))\n",
    "    ax = None\n",
    "    ax = fig.add_subplot(1, 2, 1, sharey=ax)\n",
    "    area = np.zeros((10,10), dtype=np.float64)\n",
    "\n",
    "    print(alljets[mytype][ievt])\n",
    "    for ijet, jet in enumerate(alljets[mytype][ievt]):\n",
    "        constit = jet.constituents_array()\n",
    "        print(ijet, len(constit))\n",
    "        jetarea, _, _ = np.histogram2d(constit['eta'], constit['phi'],\n",
    "                                       )\n",
    "        area += (jetarea > 0) * (ijet + 1)\n",
    "\n",
    "    # plot all areas\n",
    "    ax.imshow(np.ma.masked_where(area == 0, area).T, cmap=cmap,\n",
    "              extent=extent, aspect=(eta_max - eta_min) / (2*np.pi),\n",
    "              interpolation='none', origin='lower')\n",
    "\n",
    "    # overlay original event\n",
    "    particles = all_hadrons['background'][0]\n",
    "    ax.scatter(particles['eta'], particles['phi'],\n",
    "               s=30 * particles['pT'] / particles['pT'].max())\n",
    "    ax.set_xlim(extent[:2])\n",
    "    ax.set_ylim(extent[2:])\n",
    "    ax.set_ylabel(r'$\\phi$')\n",
    "    ax.set_xlabel(r'$\\eta$')\n",
    "\n",
    "    ax.text(0.95, 0.05, 'Background',\n",
    "        verticalalignment='bottom', horizontalalignment='right',\n",
    "        transform=ax.transAxes,\n",
    "        fontsize=12)\n",
    "    \n",
    "plot_jet_area(alljets = all_largeRjets, mytype = 'background', ievt = 1)"
   ]
  },
  {
   "cell_type": "code",
   "execution_count": 54,
   "metadata": {},
   "outputs": [
    {
     "name": "stdout",
     "output_type": "stream",
     "text": [
      "208\n"
     ]
    },
    {
     "data": {
      "image/png": "[encoded data removed]",
      "text/plain": [
       "<Figure size 432x288 with 1 Axes>"
      ]
     },
     "metadata": {
      "needs_background": "light"
     },
     "output_type": "display_data"
    }
   ],
   "source": [
    "#Let's make some very simple plots.\n",
    "def plothadron():\n",
    "    fig = plt.figure()\n",
    "    ax = fig.add_subplot(1, 1, 1)\n",
    "    n,b,p = plt.hist(pseudojets_input['eta'], bins=50, facecolor='r', alpha=0.2,label='background')\n",
    "    plt.xlabel(r'$\\eta$')\n",
    "    plt.ylabel('Number of hadrons')\n",
    "    plt.legend(loc='upper right')\n",
    "\n",
    "def plothadron2d():\n",
    "    fig = plt.figure()\n",
    "    ax = fig.add_subplot(1, 1, 1)\n",
    "#     plt.hist2d(x=pseudojets_input['eta'], y=pseudojets_input['phi'], bins=50, facecolor='r', label='background')\n",
    "    plt.scatter(x=pseudojets_input['eta'], y=pseudojets_input['phi'], marker='.', label='Hadron')\n",
    "    plt.scatter(x=lead_largeRjets['background']['eta'], y=lead_largeRjets['background']['phi'], marker='o', label='Hadron')\n",
    "    plt.xlabel(r'$\\eta$')\n",
    "    plt.ylabel(r'$\\phi$')\n",
    "    plt.legend(loc='upper right')\n",
    "    \n",
    "plothadron2d()\n",
    "print(len(pseudojets_input))"
   ]
  },
  {
   "cell_type": "code",
   "execution_count": 26,
   "metadata": {},
   "outputs": [
    {
     "data": {
      "image/png": "[encoded data removed]",
      "text/plain": [
       "<Figure size 432x288 with 1 Axes>"
      ]
     },
     "metadata": {
      "needs_background": "light"
     },
     "output_type": "display_data"
    }
   ],
   "source": [
    "#Let's make some very simple plots.\n",
    "fig = plt.figure()\n",
    "ax = fig.add_subplot(1, 1, 1)\n",
    "n,b,p = plt.hist(leadpT_largeRjets['background'], bins=50, facecolor='r', alpha=0.2,label='background')\n",
    "plt.hist(leadpT_largeRjets['signal'], bins=b, facecolor='b', alpha=0.2,label='signal')\n",
    "plt.xlabel(r'Leading jet $p_{T}$ [GeV]')\n",
    "plt.ylabel('Number of events')\n",
    "plt.legend(loc='upper right')\n",
    "plt.savefig(\"leadjetpt.pdf\")"
   ]
  },
  {
   "cell_type": "code",
   "execution_count": 12,
   "metadata": {},
   "outputs": [],
   "source": [
    "mjj={}\n",
    "for mytype in ['background','signal']:\n",
    "    mjj[mytype]=[]\n",
    "    for k in range(len(all_largeRjets[mytype])):\n",
    "        E = all_largeRjets[mytype][k][0].e+all_largeRjets[mytype][k][1].e\n",
    "        px = all_largeRjets[mytype][k][0].px+all_largeRjets[mytype][k][1].px\n",
    "        py = all_largeRjets[mytype][k][0].py+all_largeRjets[mytype][k][1].py\n",
    "        pz = all_largeRjets[mytype][k][0].pz+all_largeRjets[mytype][k][1].pz\n",
    "        mjj[mytype]+=[(E**2-px**2-py**2-pz**2)**0.5]\n"
   ]
  },
  {
   "cell_type": "code",
   "execution_count": 13,
   "metadata": {},
   "outputs": [
    {
     "data": {
      "image/png": "[encoded data removed]",
      "text/plain": [
       "<Figure size 432x288 with 1 Axes>"
      ]
     },
     "metadata": {
      "needs_background": "light"
     },
     "output_type": "display_data"
    }
   ],
   "source": [
    "fig = plt.figure()\n",
    "ax = fig.add_subplot(1, 1, 1)\n",
    "n,b,p = plt.hist(mjj['background'], bins=50, facecolor='r', alpha=0.2,label='background')\n",
    "plt.hist(mjj['signal'], bins=b, facecolor='b', alpha=0.2,label='signal')\n",
    "plt.xlabel(r'$m_{JJ}$ [GeV]')\n",
    "plt.ylabel('Number of events')\n",
    "plt.legend(loc='upper right')\n",
    "plt.savefig(\"mjj.pdf\")"
   ]
  },
  {
   "cell_type": "code",
   "execution_count": null,
   "metadata": {},
   "outputs": [],
   "source": []
  }
 ],
 "metadata": {
  "kernelspec": {
   "display_name": "Python 3",
   "language": "python",
   "name": "python3"
  },
  "language_info": {
   "codemirror_mode": {
    "name": "ipython",
    "version": 3
   },
   "file_extension": ".py",
   "mimetype": "text/x-python",
   "name": "python",
   "nbconvert_exporter": "python",
   "pygments_lexer": "ipython3",
   "version": "3.7.0"
  }
 },
 "nbformat": 4,
 "nbformat_minor": 2
}

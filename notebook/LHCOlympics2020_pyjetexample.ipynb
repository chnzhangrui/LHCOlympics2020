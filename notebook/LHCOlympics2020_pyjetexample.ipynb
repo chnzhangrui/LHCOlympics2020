{
 "cells": [
  {
   "cell_type": "code",
   "execution_count": 1,
   "metadata": {},
   "outputs": [],
   "source": [
    "import h5py    \n",
    "import numpy as np \n",
    "import matplotlib.pyplot as plt\n",
    "from pyjet import cluster,DTYPE_PTEPM\n",
    "import pandas as pd"
   ]
  },
  {
   "cell_type": "code",
   "execution_count": 2,
   "metadata": {},
   "outputs": [],
   "source": [
    "f = pd.read_hdf('../h5files/events_anomalydetection.h5')"
   ]
  },
  {
   "cell_type": "code",
   "execution_count": 3,
   "metadata": {},
   "outputs": [],
   "source": [
    "events_combined = f.T"
   ]
  },
  {
   "cell_type": "code",
   "execution_count": 4,
   "metadata": {},
   "outputs": [
    {
     "data": {
      "text/plain": [
       "(2101, 1100000)"
      ]
     },
     "execution_count": 4,
     "metadata": {},
     "output_type": "execute_result"
    }
   ],
   "source": [
    "np.shape(events_combined)\n"
   ]
  },
  {
   "cell_type": "code",
   "execution_count": 10,
   "metadata": {
    "scrolled": false
   },
   "outputs": [
    {
     "name": "stdout",
     "output_type": "stream",
     "text": [
      "background 0\n",
      "background 10000\n",
      "background 20000\n",
      "background 30000\n",
      "background 40000\n",
      "background 50000\n",
      "background 60000\n",
      "background 70000\n",
      "background 80000\n",
      "background 90000\n",
      "signal 0\n",
      "signal 10000\n",
      "signal 20000\n",
      "signal 30000\n",
      "signal 40000\n",
      "signal 50000\n",
      "signal 60000\n",
      "signal 70000\n",
      "signal 80000\n",
      "signal 90000\n"
     ]
    }
   ],
   "source": [
    "#Now, let's cluster some jets more efficiently!\n",
    "leadpT = {}\n",
    "alljets = {}\n",
    "for mytype in ['background','signal']:\n",
    "    leadpT[mytype]=[]\n",
    "    alljets[mytype]=[]\n",
    "    for i in range(100000): #len(events_combined)):\n",
    "        if i%10000==0:\n",
    "            print(mytype,i)\n",
    "        issignal = events_combined[i][2100]\n",
    "        if (mytype=='background' and issignal):\n",
    "            continue\n",
    "        elif (mytype=='signal' and issignal==0):\n",
    "            continue\n",
    "        pseudojets_input = np.zeros(len([x for x in events_combined[i][::3] if x > 0]), dtype=DTYPE_PTEPM)\n",
    "        events_filled = events_combined[i][:np.shape(pseudojets_input)[0]*3].values.reshape(np.shape(pseudojets_input)[0], 3)\n",
    "\n",
    "        pseudojets_input['pT'] = events_filled[:, 0]\n",
    "        pseudojets_input['eta'] = events_filled[:, 1]\n",
    "        pseudojets_input['phi'] = events_filled[:, 2]\n",
    "        sequence = cluster(pseudojets_input, R=1.0, p=-1)\n",
    "        jets = sequence.inclusive_jets(ptmin=20)\n",
    "        leadpT[mytype] += [jets[0].pt]\n",
    "        alljets[mytype] += [jets]"
   ]
  },
  {
   "cell_type": "code",
   "execution_count": 14,
   "metadata": {},
   "outputs": [
    {
     "name": "stdout",
     "output_type": "stream",
     "text": [
      "[[ 3.06938343e+01 -1.56809974e+00  2.29802990e+00]\n",
      " [ 6.60844374e+00 -1.56804311e+00  2.28433609e+00]\n",
      " [ 7.65378428e+00 -1.57369590e+00  2.30779552e+00]\n",
      " [ 2.71937275e+00 -1.59224546e+00  2.27576280e+00]\n",
      " [ 1.43836803e+01 -1.54466736e+00  2.27823639e+00]\n",
      " [ 9.66174545e+01 -1.55674672e+00  2.30737805e+00]\n",
      " [ 1.75336342e+01 -1.53653920e+00  2.31111193e+00]\n",
      " [ 6.15663815e+00 -1.54820395e+00  2.44173527e+00]\n",
      " [ 3.88601303e+00 -1.47499990e+00  2.24654198e+00]\n",
      " [ 2.74536395e+00 -1.44486558e+00  2.29039073e+00]\n",
      " [ 3.11199903e+00 -1.46856475e+00  2.37929583e+00]\n",
      " [ 5.15207148e+00 -1.41187465e+00  2.32968545e+00]\n",
      " [ 1.03353348e+01 -1.44903326e+00  2.36326814e+00]\n",
      " [ 2.31997414e+01 -1.44521081e+00  2.35418153e+00]\n",
      " [ 2.60068115e+02 -1.44390535e+00  2.35169315e+00]\n",
      " [ 8.93380508e+01 -1.44189227e+00  2.35457397e+00]\n",
      " [ 1.36285782e+02 -1.44130826e+00  2.34845638e+00]\n",
      " [ 2.09320087e+01 -1.45856202e+00  2.35576439e+00]\n",
      " [ 1.84150867e+01 -1.44990718e+00  2.36180639e+00]\n",
      " [ 1.56833282e+02 -1.44040608e+00  2.35148001e+00]\n",
      " [ 1.47887287e+01 -1.43568826e+00  2.34419942e+00]\n",
      " [ 2.35776405e+01 -1.43625045e+00  2.35397434e+00]\n",
      " [ 8.22486305e+00 -1.39669752e+00  2.35974503e+00]\n",
      " [ 2.14824414e+00 -5.15949547e-01 -8.93444717e-01]\n",
      " [ 3.00942302e+00 -5.34153640e-01 -1.92314506e-01]\n",
      " [ 4.35200214e+00 -5.26696503e-01 -3.03821694e-02]\n",
      " [ 5.15693521e+00 -5.63914478e-01 -2.38211840e-01]\n",
      " [ 5.00328112e+00 -4.95976716e-01 -6.93688750e-01]\n",
      " [ 4.49012423e+00 -5.04966319e-01 -2.91568995e-01]\n",
      " [ 2.93604584e+01 -4.20467764e-01 -9.90278304e-01]\n",
      " [ 8.13355637e+00 -4.11453009e-01 -9.11688924e-01]\n",
      " [ 2.96549473e+01 -4.05378044e-01 -9.86958325e-01]\n",
      " [ 1.04875389e+02 -4.13033724e-01 -9.88222778e-01]\n",
      " [ 2.64926968e+01 -4.07361656e-01 -9.91784811e-01]\n",
      " [ 4.66369171e+02 -3.90167207e-01 -9.86293972e-01]\n",
      " [ 1.42374313e+02 -3.90537411e-01 -9.89190578e-01]\n",
      " [ 1.18618717e+01 -3.62526268e-01 -9.68636394e-01]\n",
      " [ 5.83075047e+00 -4.11791056e-01 -9.48043048e-01]\n",
      " [ 5.02857924e+00 -3.65804166e-01 -9.22317624e-01]\n",
      " [ 4.41014290e+00 -3.53816539e-01 -9.00362134e-01]\n",
      " [ 1.50525417e+01 -3.51699352e-01 -5.95191121e-01]\n",
      " [ 3.94831967e+00 -4.31977391e-01 -2.86542207e-01]\n",
      " [ 7.95929146e+00 -3.70213479e-01 -7.01901972e-01]\n",
      " [ 3.35825706e+00 -4.29486901e-01 -7.04521179e-01]\n",
      " [ 4.78220415e+00 -3.45666975e-01 -6.78536355e-01]\n",
      " [ 5.56760311e+00 -3.03239524e-01 -6.63067281e-01]\n",
      " [ 4.47448492e+00 -3.30565661e-01 -3.60191941e-01]\n",
      " [ 1.59687734e+00 -2.52470613e-01 -1.20802391e+00]\n",
      " [ 4.40209427e+01 -1.95715651e-01 -3.03144187e-01]\n",
      " [ 3.85157166e+01 -2.01833665e-01 -2.99185127e-01]\n",
      " [ 5.64954224e+01 -1.90830484e-01 -3.03343117e-01]\n",
      " [ 1.58530340e+01 -1.81761920e-01 -3.10721874e-01]\n",
      " [ 1.70137179e+00 -8.53012502e-02 -7.12690413e-01]\n",
      " [ 1.80743027e+00 -7.74836242e-02 -7.56074607e-01]\n",
      " [ 2.76195216e+00  2.04313472e-02 -8.47986937e-01]\n",
      " [ 1.82512248e+00  1.13173962e+00 -3.15600574e-01]\n",
      " [ 6.95742655e+00  1.22146177e+00 -3.03715140e-01]\n",
      " [ 2.80906124e+01  1.24254405e+00 -2.58555412e-01]\n",
      " [ 2.43298817e+01  1.26044643e+00 -2.45497718e-01]\n",
      " [ 4.39937878e+00  1.32379591e+00 -1.68532535e-01]\n",
      " [ 1.20049763e+00  1.43701386e+00 -1.72801003e-01]\n",
      " [ 6.93724751e-01  1.13233924e+00 -3.07041973e-01]\n",
      " [ 6.91148579e-01  1.87342179e+00  3.25194657e-01]\n",
      " [ 1.00287187e+00  2.33761406e+00 -1.50713015e+00]\n",
      " [ 1.40524411e+00 -4.21078491e+00 -2.10154605e+00]\n",
      " [ 9.89137077e+00 -1.64953077e+00  2.39188266e+00]\n",
      " [ 1.48614487e+02 -1.53083694e+00  2.32158422e+00]\n",
      " [ 3.05176520e+00 -1.45139003e+00  2.86418128e+00]\n",
      " [ 8.98648548e+00 -4.72716898e-01 -3.15997303e-01]\n",
      " [ 3.89208260e+01 -4.00261313e-01 -6.51216865e-01]\n",
      " [ 4.17952042e+01 -2.49967828e-01 -2.73611069e-01]\n",
      " [ 6.48988533e+00 -1.47460610e-01 -8.23366523e-01]\n",
      " [ 1.97236404e+01 -2.00683158e-02 -8.80360067e-01]\n",
      " [ 8.48990154e+00  1.43624691e-03 -1.05673265e+00]\n",
      " [ 2.25454865e+01  1.24378371e+00 -2.18288675e-01]\n",
      " [ 2.91378570e+00  1.77338910e+00  1.67396820e+00]\n",
      " [ 4.99153465e-01  2.69631267e+00 -2.44598031e+00]\n",
      " [ 2.33717728e+00  2.76764250e+00 -1.74448252e+00]\n",
      " [ 2.92360377e+00  2.67382407e+00 -1.24608147e+00]\n",
      " [ 4.19499725e-01  2.76689053e+00 -5.52180111e-01]\n",
      " [ 2.55867064e-01  2.90724277e+00 -2.21555996e+00]\n",
      " [ 5.03847456e+00  2.87292814e+00 -1.53523898e+00]\n",
      " [ 9.47845101e-01  3.12767363e+00 -2.91013646e+00]\n",
      " [ 1.42814565e+00  3.46994305e+00 -2.42897987e+00]\n",
      " [ 1.67124581e+00  3.49459505e+00 -2.56012082e+00]\n",
      " [ 7.27123797e-01  3.66462135e+00  2.47306848e+00]\n",
      " [ 1.29543805e+00  3.90903378e+00 -1.32615137e+00]\n",
      " [ 9.13316905e-01  4.04091978e+00 -2.60541892e+00]\n",
      " [ 1.69578359e-01  4.55808496e+00 -1.67546344e+00]\n",
      " [ 2.15738133e-01  4.73741913e+00  2.23891425e+00]\n",
      " [ 1.59321260e+00 -1.58804250e+00  2.28602600e+00]\n",
      " [ 5.11126976e+01 -1.57702434e+00  2.27010846e+00]\n",
      " [ 4.76269388e+00 -1.56396997e+00  2.28371787e+00]\n",
      " [ 1.21896782e+01 -1.55568206e+00  2.28946900e+00]\n",
      " [ 2.85679283e+01 -1.56292593e+00  2.31048775e+00]\n",
      " [ 3.51852894e+00 -1.53499448e+00  2.25918317e+00]\n",
      " [ 2.33158374e+00 -1.54796827e+00  2.28249788e+00]\n",
      " [ 1.05388435e+02 -1.54317522e+00  2.28772068e+00]\n",
      " [ 8.05390625e+01 -1.53567982e+00  2.31496382e+00]\n",
      " [ 4.21344757e+00 -1.50831366e+00  2.25684023e+00]\n",
      " [ 4.93547773e+00 -1.50723255e+00  2.27532434e+00]\n",
      " [ 2.10218573e+00 -1.48904109e+00  2.28870797e+00]\n",
      " [ 2.77664495e+00 -1.47006869e+00  2.33641267e+00]\n",
      " [ 8.49089527e+00 -1.45683885e+00  2.33777404e+00]\n",
      " [ 3.31360893e+01 -1.45060623e+00  2.34461045e+00]\n",
      " [ 3.87632103e+01 -1.44541359e+00  2.36968660e+00]\n",
      " [ 1.71712029e+00 -1.42693615e+00  2.36687231e+00]\n",
      " [ 5.46433067e+00 -1.42651784e+00  2.38148403e+00]\n",
      " [ 4.03803635e+00 -1.39496565e+00  2.38945723e+00]\n",
      " [ 1.13425064e+00 -1.32730961e+00  2.35044789e+00]\n",
      " [ 2.07750249e+00 -4.88505810e-01 -2.43054897e-01]\n",
      " [ 1.46656296e+02 -4.10878032e-01 -1.01148319e+00]\n",
      " [ 2.02436562e+01 -4.17363554e-01 -9.94379461e-01]\n",
      " [ 1.76745758e+01 -3.86050463e-01 -9.79939818e-01]\n",
      " [ 4.40438728e+01 -3.97347361e-01 -6.87496722e-01]\n",
      " [ 9.52391744e-01 -3.76040339e-01 -6.84652865e-01]\n",
      " [ 2.15915623e+01 -3.66133273e-01 -6.75921202e-01]\n",
      " [ 7.06692123e+00 -3.76953036e-01 -6.56323552e-01]\n",
      " [ 5.48278904e+00 -3.43445629e-01 -7.16346145e-01]\n",
      " [ 3.73506618e+00 -3.42392713e-01 -6.97371542e-01]\n",
      " [ 1.41161718e+01 -3.33319157e-01 -6.73979759e-01]\n",
      " [ 4.73453236e+00 -3.00048172e-01 -5.94871223e-01]\n",
      " [ 1.86508405e+00 -2.75938958e-01 -2.52526551e-01]\n",
      " [ 4.65297127e+00 -2.30165660e-01 -2.67166376e-01]\n",
      " [ 6.65766525e+00 -2.15612113e-01 -2.59422064e-01]\n",
      " [ 1.51597786e+01 -1.91734016e-01 -2.91388333e-01]\n",
      " [ 2.57011056e+00 -1.45855397e-01 -9.56902027e-01]\n",
      " [ 2.18370771e+00 -9.09284204e-02 -9.59024727e-01]\n",
      " [ 1.03565156e+00 -3.91127579e-02 -2.36330047e-01]\n",
      " [ 4.37067986e+00  1.29422808e+00 -2.00153783e-01]\n",
      " [ 1.21091056e+00  1.35494089e+00 -1.32321984e-01]\n",
      " [ 0.00000000e+00  0.00000000e+00  0.00000000e+00]]\n"
     ]
    }
   ],
   "source": [
    "print(events_filled)"
   ]
  },
  {
   "cell_type": "code",
   "execution_count": 11,
   "metadata": {},
   "outputs": [
    {
     "data": {
      "image/png": "[encoded data removed]",
      "text/plain": [
       "<Figure size 432x288 with 1 Axes>"
      ]
     },
     "metadata": {
      "needs_background": "light"
     },
     "output_type": "display_data"
    }
   ],
   "source": [
    "#Let's make some very simple plots.\n",
    "fig = plt.figure()\n",
    "ax = fig.add_subplot(1, 1, 1)\n",
    "n,b,p = plt.hist(leadpT['background'], bins=50, facecolor='r', alpha=0.2,label='background')\n",
    "plt.hist(leadpT['signal'], bins=b, facecolor='b', alpha=0.2,label='signal')\n",
    "plt.xlabel(r'Leading jet $p_{T}$ [GeV]')\n",
    "plt.ylabel('Number of events')\n",
    "plt.legend(loc='upper right')\n",
    "plt.savefig(\"leadjetpt.pdf\")"
   ]
  },
  {
   "cell_type": "code",
   "execution_count": 12,
   "metadata": {},
   "outputs": [],
   "source": [
    "mjj={}\n",
    "for mytype in ['background','signal']:\n",
    "    mjj[mytype]=[]\n",
    "    for k in range(len(alljets[mytype])):\n",
    "        E = alljets[mytype][k][0].e+alljets[mytype][k][1].e\n",
    "        px = alljets[mytype][k][0].px+alljets[mytype][k][1].px\n",
    "        py = alljets[mytype][k][0].py+alljets[mytype][k][1].py\n",
    "        pz = alljets[mytype][k][0].pz+alljets[mytype][k][1].pz\n",
    "        mjj[mytype]+=[(E**2-px**2-py**2-pz**2)**0.5]\n"
   ]
  },
  {
   "cell_type": "code",
   "execution_count": 13,
   "metadata": {},
   "outputs": [
    {
     "data": {
      "image/png": "[encoded data removed]",
      "text/plain": [
       "<Figure size 432x288 with 1 Axes>"
      ]
     },
     "metadata": {
      "needs_background": "light"
     },
     "output_type": "display_data"
    }
   ],
   "source": [
    "fig = plt.figure()\n",
    "ax = fig.add_subplot(1, 1, 1)\n",
    "n,b,p = plt.hist(mjj['background'], bins=50, facecolor='r', alpha=0.2,label='background')\n",
    "plt.hist(mjj['signal'], bins=b, facecolor='b', alpha=0.2,label='signal')\n",
    "plt.xlabel(r'$m_{JJ}$ [GeV]')\n",
    "plt.ylabel('Number of events')\n",
    "plt.legend(loc='upper right')\n",
    "plt.savefig(\"mjj.pdf\")"
   ]
  },
  {
   "cell_type": "code",
   "execution_count": null,
   "metadata": {},
   "outputs": [],
   "source": []
  }
 ],
 "metadata": {
  "kernelspec": {
   "display_name": "Python 3",
   "language": "python",
   "name": "python3"
  },
  "language_info": {
   "codemirror_mode": {
    "name": "ipython",
    "version": 3
   },
   "file_extension": ".py",
   "mimetype": "text/x-python",
   "name": "python",
   "nbconvert_exporter": "python",
   "pygments_lexer": "ipython3",
   "version": "3.7.0"
  }
 },
 "nbformat": 4,
 "nbformat_minor": 2
}

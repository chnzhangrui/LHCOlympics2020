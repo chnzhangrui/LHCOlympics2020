{
 "cells": [
  {
   "cell_type": "code",
   "execution_count": 1,
   "metadata": {},
   "outputs": [],
   "source": [
    "import h5py    \n",
    "import numpy as np \n",
    "import matplotlib.pyplot as plt\n",
    "from pyjet import cluster,DTYPE_PTEPM\n",
    "import pandas as pd\n",
    "from matplotlib.pyplot import cm\n",
    "from matplotlib.colors import LinearSegmentedColormap"
   ]
  },
  {
   "cell_type": "code",
   "execution_count": 2,
   "metadata": {},
   "outputs": [],
   "source": [
    "f = pd.read_hdf('../h5files/events_anomalydetection.h5', stop=10000) #read only first 'stop' events"
   ]
  },
  {
   "cell_type": "code",
   "execution_count": 3,
   "metadata": {},
   "outputs": [
    {
     "data": {
      "text/plain": [
       "(2101, 10000)"
      ]
     },
     "execution_count": 3,
     "metadata": {},
     "output_type": "execute_result"
    }
   ],
   "source": [
    "events_combined = f.T\n",
    "np.shape(events_combined)\n"
   ]
  },
  {
   "cell_type": "code",
   "execution_count": 4,
   "metadata": {
    "scrolled": false
   },
   "outputs": [
    {
     "name": "stdout",
     "output_type": "stream",
     "text": [
      "background 0\n",
      "jets [PseudoJet(pt=38.716, eta=-1.682, phi=-3.034, mass=21.279), PseudoJet(pt=20.657, eta=-3.353, phi=-2.948, mass=7.048)]\n",
      "largeRjets [PseudoJet(pt=38.716, eta=-1.682, phi=-3.034, mass=21.279), PseudoJet(pt=20.657, eta=-3.353, phi=-2.948, mass=7.048)]\n"
     ]
    },
    {
     "name": "stderr",
     "output_type": "stream",
     "text": [
      "/usr/local/lib/python3.7/site-packages/matplotlib/collections.py:874: RuntimeWarning: invalid value encountered in sqrt\n",
      "  scale = np.sqrt(self._sizes) * dpi / 72.0 * self._factor\n"
     ]
    },
    {
     "name": "stdout",
     "output_type": "stream",
     "text": [
      "signal 0\n"
     ]
    },
    {
     "data": {
      "image/png": "[encoded data removed]",
      "text/plain": [
       "<Figure size 648x216 with 1 Axes>"
      ]
     },
     "metadata": {
      "needs_background": "light"
     },
     "output_type": "display_data"
    }
   ],
   "source": [
    "#Now, let's cluster some jets more efficiently!\n",
    "all_largeRjets = {}\n",
    "all_smallRjets = {}\n",
    "all_largeRjets_ghost = {}\n",
    "all_smallRjets_ghost = {}\n",
    "all_hadrons = {}\n",
    "all_hadrons_ghost = {}\n",
    "\n",
    "fillGhost = True\n",
    "eta_min, eta_max = -4., 4.\n",
    "extent = eta_min, eta_max, -np.pi, np.pi\n",
    "bins = 200\n",
    "kt, r, R=-1, 0.4, 1.0\n",
    "pcut = 20\n",
    "for mytype in ['background','signal']:\n",
    "    all_largeRjets[mytype]=[]\n",
    "    all_smallRjets[mytype]=[]\n",
    "    all_largeRjets_ghost[mytype]=[]\n",
    "    all_smallRjets_ghost[mytype]=[]\n",
    "    all_hadrons[mytype]=[]\n",
    "    all_hadrons_ghost[mytype]=[]\n",
    "    \n",
    "    for ievt in range(1): #len(events_combined)):\n",
    "        if ievt%10000==0:\n",
    "            print(mytype,ievt)\n",
    "        issignal = events_combined[ievt][2100]\n",
    "        if (mytype=='background' and issignal):\n",
    "            continue\n",
    "        elif (mytype=='signal' and issignal==0):\n",
    "            continue\n",
    "        pseudojets_input = np.zeros(len([x for x in events_combined[ievt][::3] if x > 0]), dtype=DTYPE_PTEPM)\n",
    "        events_filled = events_combined[ievt][:np.shape(pseudojets_input)[0]*3].values.reshape(np.shape(pseudojets_input)[0], 3)\n",
    "\n",
    "        pseudojets_input['pT'], pseudojets_input['eta'], pseudojets_input['phi'] = events_filled[:, 2], events_filled[:, 0], events_filled[:, 1]\n",
    "        \n",
    "#         pseudojets_input2 = pseudojets_input\n",
    "        largeR = cluster(pseudojets_input, R=R, p=kt)\n",
    "        largeRjets = largeR.inclusive_jets(ptmin=20)\n",
    "        \n",
    "#         smallR = cluster(pseudojets_input, R=r, p=kt)\n",
    "#         smallRjets = smallR.inclusive_jets(ptmin=pcut)\n",
    "        \n",
    "        all_largeRjets[mytype] += [largeRjets]\n",
    "#         all_smallRjets[mytype] += [smallRjets]\n",
    "        all_hadrons[mytype] += [pseudojets_input]\n",
    "        \n",
    "        if fillGhost:\n",
    "            # define eta and phi ranges and number of bins along each axis\n",
    "\n",
    "            # create regular grid of ghosts\n",
    "            eta_edges = np.linspace(eta_min, eta_max, bins + 1)\n",
    "            phi_edges = np.linspace(-np.pi, np.pi, bins + 1)\n",
    "            eta = np.linspace(eta_min, eta_max, bins + 1)[:-1] + (eta_max - eta_min) / (2 * bins)\n",
    "            phi = np.linspace(-np.pi, np.pi, bins + 1)[:-1] + (np.pi / bins)\n",
    "            X, Y = np.meshgrid(eta, phi)\n",
    "            ghosts = np.zeros(eta.shape[0] * phi.shape[0], dtype=DTYPE_PTEPM)\n",
    "            ghosts['pT'], ghosts['eta'], ghosts['phi'] = 1e-8, X.ravel(), Y.ravel()\n",
    "            \n",
    "            pseudojets_input_ghost = np.concatenate([pseudojets_input, ghosts])\n",
    "#             print('pseudojets_input_ghost', len(pseudojets_input_ghost), pseudojets_input_ghost)\n",
    "#             print('pseudojets_input', len(pseudojets_input), pseudojets_input)\n",
    "            \n",
    "            largeR_ghost = cluster(pseudojets_input_ghost, R=R, p=kt)\n",
    "            largeRjets_ghost = largeR_ghost.inclusive_jets(ptmin=pcut)\n",
    "            all_largeRjets_ghost[mytype] += [largeRjets_ghost]\n",
    "            all_hadrons_ghost[mytype] += [pseudojets_input_ghost]\n",
    "\n",
    "\n",
    "#             smallR_ghost = cluster(pseudojets_input_ghost, R=0.4, p=-1)\n",
    "#             smallRjets_ghost = smallR_ghost.inclusive_jets(ptmin=20)\n",
    "\n",
    "#             all_smallRjets_ghost[mytype] += [smallRjets_ghost]\n",
    "\n",
    "\n",
    "        \n",
    "        \n",
    "        fig = plt.figure(figsize=(9, 3))\n",
    "\n",
    "        # cluster\n",
    "        sequence = cluster(pseudojets_input_ghost, R=1.0, p=-1)\n",
    "        jets = sequence.inclusive_jets(ptmin=20)\n",
    "        print('jets',jets)\n",
    "        print('largeRjets',largeRjets)\n",
    "        largeRjets = jets\n",
    "\n",
    "        ax = None\n",
    "\n",
    "        # pick a different color for each jet\n",
    "        colors = cm.rainbow(np.linspace(0, 1, len(largeRjets)))\n",
    "        cmap = LinearSegmentedColormap.from_list('cmap', colors, len(colors))\n",
    "        ax = fig.add_subplot(1, 1, 1, sharey=ax)\n",
    "        area = np.zeros((eta_edges.shape[0] - 1, phi_edges.shape[0] - 1),\n",
    "                        dtype=np.float64)\n",
    "        for ijet, jet in enumerate(largeRjets):\n",
    "            constit = jet.constituents_array()\n",
    "            jetarea, _, _ = np.histogram2d(constit['eta'], constit['phi'],\n",
    "                                           bins=(eta_edges, phi_edges))\n",
    "            area += (jetarea > 0) * (ijet + 1)\n",
    "\n",
    "        # plot all areas\n",
    "        ax.imshow(np.ma.masked_where(area == 0, area).T, cmap=cmap,\n",
    "                  extent=extent, aspect=(eta_max - eta_min) / (2*np.pi),\n",
    "                  interpolation='none', origin='lower')\n",
    "\n",
    "        # overlay original event\n",
    "        particles = pseudojets_input\n",
    "        ax.scatter(particles['eta'], particles['phi'], s=30 * particles['pT'] / particles['pT'].max())\n",
    "        ax.set_xlim(extent[:2])\n",
    "        ax.set_ylim(extent[2:])\n",
    "        ax.set_ylabel(r'$\\phi$')\n",
    "        ax.set_xlabel(r'$\\eta$')\n",
    "\n",
    "        ax.text(0.95, 0.05, r'anti-$k_t$',\n",
    "            verticalalignment='bottom', horizontalalignment='right',\n",
    "            transform=ax.transAxes,\n",
    "            fontsize=12)\n",
    "\n",
    "        fig.subplots_adjust(hspace=0)\n",
    "        plt.setp([a.get_yticklabels() for a in fig.axes[1:]], visible=False)\n",
    "        fig.tight_layout()"
   ]
  },
  {
   "cell_type": "code",
   "execution_count": 6,
   "metadata": {},
   "outputs": [],
   "source": [
    "def getJet(alljets, index):\n",
    "    jet = {}\n",
    "    for mytype in ['background','signal']:\n",
    "        jet[mytype]={'pt':[], 'eta':[], 'phi':[]}\n",
    "        for ievt in range(len(all_largeRjets[mytype])):\n",
    "            jet[mytype]['pt'] += [alljets[mytype][ievt][index].pt]\n",
    "            jet[mytype]['eta'] += [alljets[mytype][ievt][index].eta]\n",
    "            jet[mytype]['phi'] += [alljets[mytype][ievt][index].phi]\n",
    "    return jet\n",
    "\n",
    "# lead_largeRjets, sublead_largeRjets = getJet(all_largeRjets, 0), getJet(all_largeRjets, 1)\n",
    "# lead_smallRjets, sublead_smallRjets = getJet(all_smallRjets, 0), getJet(all_smallRjets, 1)\n",
    "# print(lead_largeRjets)\n",
    "# print(sublead_largeRjets)\n",
    "# print(lead_smallRjets)\n",
    "# print(sublead_smallRjets)\n"
   ]
  },
  {
   "cell_type": "code",
   "execution_count": 7,
   "metadata": {},
   "outputs": [
    {
     "name": "stdout",
     "output_type": "stream",
     "text": [
      "[[PseudoJet(pt=38.716, eta=-1.682, phi=-3.034, mass=21.279), PseudoJet(pt=20.657, eta=-3.353, phi=-2.948, mass=7.048)]]\n"
     ]
    }
   ],
   "source": [
    "print(all_largeRjets['background'])"
   ]
  },
  {
   "cell_type": "code",
   "execution_count": 8,
   "metadata": {},
   "outputs": [
    {
     "data": {
      "image/png": "[encoded data removed]",
      "text/plain": [
       "<Figure size 648x216 with 1 Axes>"
      ]
     },
     "metadata": {
      "needs_background": "light"
     },
     "output_type": "display_data"
    }
   ],
   "source": [
    "from matplotlib.pyplot import cm\n",
    "from matplotlib.colors import LinearSegmentedColormap\n",
    "\n",
    "def plot_jet_area(all_hadrons_ghost = all_hadrons_ghost, all_largeRjets_ghost = all_largeRjets_ghost, mytype = 'background', ievt = 0):\n",
    "    event = all_largeRjets_ghost[mytype][ievt]\n",
    "\n",
    "    fig = plt.figure(figsize=(9, 3))\n",
    "\n",
    "    ax = None\n",
    "\n",
    "    # pick a different color for each jet\n",
    "    colors = cm.rainbow(np.linspace(0, 1, len(event)))\n",
    "    cmap = LinearSegmentedColormap.from_list('cmap', colors, len(colors))\n",
    "    ax = fig.add_subplot(1, 1, 1, sharey=ax)\n",
    "    area = np.zeros((eta_edges.shape[0] - 1, phi_edges.shape[0] - 1),\n",
    "                    dtype=np.float64)\n",
    "    for ijet, jet in enumerate(event):\n",
    "        constit = jet.constituents_array()\n",
    "        jetarea, _, _ = np.histogram2d(constit['eta'], constit['phi'],\n",
    "                                       bins=(eta_edges, phi_edges))\n",
    "        area += (jetarea > 0) * (ijet + 1)\n",
    "\n",
    "    # plot all areas\n",
    "    ax.imshow(np.ma.masked_where(area == 0, area).T, cmap=cmap,\n",
    "              extent=extent, aspect=(eta_max - eta_min) / (2*np.pi),\n",
    "              interpolation='none', origin='lower')\n",
    "\n",
    "    # overlay original event\n",
    "    particles = all_hadrons_ghost[mytype][ievt]\n",
    "#     print('particles', len(particles), particles['eta'], particles['phi'])\n",
    "#     print('event',len(event))\n",
    "    ax.scatter(particles['eta'], particles['phi'], s=30 * particles['pT'] / particles['pT'].max())\n",
    "    ax.set_xlim(extent[:2])\n",
    "    ax.set_ylim(extent[2:])\n",
    "    ax.set_ylabel(r'$\\phi$')\n",
    "    ax.set_xlabel(r'$\\eta$')\n",
    "\n",
    "    ax.text(0.95, 0.05, r'anti-$k_t$',\n",
    "        verticalalignment='bottom', horizontalalignment='right',\n",
    "        transform=ax.transAxes,\n",
    "        fontsize=12)\n",
    "\n",
    "    fig.subplots_adjust(hspace=0)\n",
    "    plt.setp([a.get_yticklabels() for a in fig.axes[1:]], visible=False)\n",
    "    fig.tight_layout()\n",
    "    \n",
    "# print(len(all_hadrons_ghost['background'][0]), len(all_largeRjets_ghost['background'][0]), len(constituents_array))\n",
    "# print(len(all_hadrons['background'][0]), len(all_largeRjets['background'][0]))\n",
    "plot_jet_area(all_hadrons_ghost = all_hadrons_ghost, all_largeRjets_ghost = all_largeRjets_ghost, mytype = 'background', ievt = 0)\n",
    "# plot_jet_area(all_hadrons_ghost = all_hadrons, all_largeRjets_ghost = all_largeRjets, mytype = 'background', ievt = 0)"
   ]
  },
  {
   "cell_type": "code",
   "execution_count": 8,
   "metadata": {},
   "outputs": [
    {
     "name": "stdout",
     "output_type": "stream",
     "text": [
      "{'background': [array([( 2.73766923e+00, 0.32410094, -0.36115795, 0.),\n",
      "       ( 7.29829907e-01, 0.40985909, -2.42993855, 0.),\n",
      "       (-1.16131008e+00, 0.86792219, -2.26777697, 0.), ...,\n",
      "       ( 1.00000000e-08, 3.9       ,  3.12588469, 0.),\n",
      "       ( 1.00000000e-08, 3.94      ,  3.12588469, 0.),\n",
      "       ( 1.00000000e-08, 3.98      ,  3.12588469, 0.)],\n",
      "      dtype=[('pT', '<f8'), ('eta', '<f8'), ('phi', '<f8'), ('mass', '<f8')])], 'signal': []}\n",
      "[( 2.73766923e+00, 0.32410094, -0.36115795, 0.)\n",
      " ( 7.29829907e-01, 0.40985909, -2.42993855, 0.)\n",
      " (-1.16131008e+00, 0.86792219, -2.26777697, 0.) ...\n",
      " ( 1.00000000e-08, 3.9       ,  3.12588469, 0.)\n",
      " ( 1.00000000e-08, 3.94      ,  3.12588469, 0.)\n",
      " ( 1.00000000e-08, 3.98      ,  3.12588469, 0.)]\n"
     ]
    },
    {
     "ename": "AttributeError",
     "evalue": "'numpy.void' object has no attribute 'constituents_array'",
     "output_type": "error",
     "traceback": [
      "\u001b[0;31m---------------------------------------------------------------------------\u001b[0m",
      "\u001b[0;31mAttributeError\u001b[0m                            Traceback (most recent call last)",
      "\u001b[0;32m<ipython-input-8-df011bd4f841>\u001b[0m in \u001b[0;36m<module>\u001b[0;34m\u001b[0m\n\u001b[1;32m     53\u001b[0m \u001b[0;34m\u001b[0m\u001b[0m\n\u001b[1;32m     54\u001b[0m \u001b[0mprint\u001b[0m\u001b[0;34m(\u001b[0m\u001b[0mall_hadrons_ghost\u001b[0m\u001b[0;34m)\u001b[0m\u001b[0;34m\u001b[0m\u001b[0m\n\u001b[0;32m---> 55\u001b[0;31m \u001b[0mplot_jet_area\u001b[0m\u001b[0;34m(\u001b[0m\u001b[0malljets\u001b[0m \u001b[0;34m=\u001b[0m \u001b[0mall_hadrons_ghost\u001b[0m\u001b[0;34m,\u001b[0m \u001b[0mmytype\u001b[0m \u001b[0;34m=\u001b[0m \u001b[0;34m'background'\u001b[0m\u001b[0;34m,\u001b[0m \u001b[0mievt\u001b[0m \u001b[0;34m=\u001b[0m \u001b[0;36m0\u001b[0m\u001b[0;34m)\u001b[0m\u001b[0;34m\u001b[0m\u001b[0m\n\u001b[0m",
      "\u001b[0;32m<ipython-input-8-df011bd4f841>\u001b[0m in \u001b[0;36mplot_jet_area\u001b[0;34m(alljets, mytype, ievt)\u001b[0m\n\u001b[1;32m     27\u001b[0m     \u001b[0mprint\u001b[0m\u001b[0;34m(\u001b[0m\u001b[0malljets\u001b[0m\u001b[0;34m[\u001b[0m\u001b[0mmytype\u001b[0m\u001b[0;34m]\u001b[0m\u001b[0;34m[\u001b[0m\u001b[0mievt\u001b[0m\u001b[0;34m]\u001b[0m\u001b[0;34m)\u001b[0m\u001b[0;34m\u001b[0m\u001b[0m\n\u001b[1;32m     28\u001b[0m     \u001b[0;32mfor\u001b[0m \u001b[0mijet\u001b[0m\u001b[0;34m,\u001b[0m \u001b[0mjet\u001b[0m \u001b[0;32min\u001b[0m \u001b[0menumerate\u001b[0m\u001b[0;34m(\u001b[0m\u001b[0malljets\u001b[0m\u001b[0;34m[\u001b[0m\u001b[0mmytype\u001b[0m\u001b[0;34m]\u001b[0m\u001b[0;34m[\u001b[0m\u001b[0mievt\u001b[0m\u001b[0;34m]\u001b[0m\u001b[0;34m)\u001b[0m\u001b[0;34m:\u001b[0m\u001b[0;34m\u001b[0m\u001b[0m\n\u001b[0;32m---> 29\u001b[0;31m         \u001b[0mconstit\u001b[0m \u001b[0;34m=\u001b[0m \u001b[0mjet\u001b[0m\u001b[0;34m.\u001b[0m\u001b[0mconstituents_array\u001b[0m\u001b[0;34m(\u001b[0m\u001b[0;34m)\u001b[0m\u001b[0;34m\u001b[0m\u001b[0m\n\u001b[0m\u001b[1;32m     30\u001b[0m         \u001b[0mprint\u001b[0m\u001b[0;34m(\u001b[0m\u001b[0mijet\u001b[0m\u001b[0;34m,\u001b[0m \u001b[0mlen\u001b[0m\u001b[0;34m(\u001b[0m\u001b[0mconstit\u001b[0m\u001b[0;34m)\u001b[0m\u001b[0;34m)\u001b[0m\u001b[0;34m\u001b[0m\u001b[0m\n\u001b[1;32m     31\u001b[0m         jetarea, _, _ = np.histogram2d(constit['eta'], constit['phi'],\n",
      "\u001b[0;31mAttributeError\u001b[0m: 'numpy.void' object has no attribute 'constituents_array'"
     ]
    },
    {
     "data": {
      "image/png": "[encoded data removed]",
      "text/plain": [
       "<Figure size 648x216 with 1 Axes>"
      ]
     },
     "metadata": {
      "needs_background": "light"
     },
     "output_type": "display_data"
    }
   ],
   "source": [
    "from matplotlib.pyplot import cm\n",
    "from matplotlib.colors import LinearSegmentedColormap\n",
    "\n",
    "def plot_jet_area(alljets = all_largeRjets, mytype = 'background', ievt = 0):\n",
    "    event = alljets[mytype][ievt]\n",
    "    # pick a different color for each jet\n",
    "    fig = plt.figure(figsize=(9, 3))\n",
    "    colors = cm.rainbow(np.linspace(0, 1, len(event)))\n",
    "    cmap = LinearSegmentedColormap.from_list('cmap', colors, len(colors))\n",
    "    \n",
    "    # create regular grid of ghosts\n",
    "    eta_edges = np.linspace(eta_min, eta_max, bins + 1)\n",
    "    phi_edges = np.linspace(-np.pi, np.pi, bins + 1)\n",
    "    eta = np.linspace(eta_min, eta_max, bins + 1)[:-1] + (eta_max - eta_min) / (2 * bins)\n",
    "    phi = np.linspace(-np.pi, np.pi, bins + 1)[:-1] + (np.pi / bins)\n",
    "    X, Y = np.meshgrid(eta, phi)\n",
    "    ghosts = np.zeros(eta.shape[0] * phi.shape[0], dtype=DTYPE_PTEPM)\n",
    "    ghosts['pT'] = 1e-8\n",
    "    ghosts['eta'] = X.ravel()\n",
    "    ghosts['phi'] = Y.ravel()\n",
    "\n",
    "    \n",
    "    ax = None\n",
    "    ax = fig.add_subplot(1, 2, 1, sharey=ax)\n",
    "    area = np.zeros((10,10), dtype=np.float64)\n",
    "\n",
    "    print(alljets[mytype][ievt])\n",
    "    for ijet, jet in enumerate(alljets[mytype][ievt]):\n",
    "        constit = jet.constituents_array()\n",
    "        print(ijet, len(constit))\n",
    "        jetarea, _, _ = np.histogram2d(constit['eta'], constit['phi'],\n",
    "                                       )\n",
    "        area += (jetarea > 0) * (ijet + 1)\n",
    "\n",
    "    # plot all areas\n",
    "    ax.imshow(np.ma.masked_where(area == 0, area).T, cmap=cmap,\n",
    "              extent=extent, aspect=(eta_max - eta_min) / (2*np.pi),\n",
    "              interpolation='none', origin='lower')\n",
    "\n",
    "    # overlay original event\n",
    "    particles = event\n",
    "    ax.scatter(particles['eta'], particles['phi'],\n",
    "               s=30 * particles['pT'] / particles['pT'].max())\n",
    "    ax.set_xlim(extent[:2])\n",
    "    ax.set_ylim(extent[2:])\n",
    "    ax.set_ylabel(r'$\\phi$')\n",
    "    ax.set_xlabel(r'$\\eta$')\n",
    "\n",
    "    ax.text(0.95, 0.05, 'Background',\n",
    "        verticalalignment='bottom', horizontalalignment='right',\n",
    "        transform=ax.transAxes,\n",
    "        fontsize=12)\n",
    "\n",
    "print(all_hadrons_ghost)\n",
    "plot_jet_area(alljets = all_hadrons_ghost, mytype = 'background', ievt = 0)"
   ]
  },
  {
   "cell_type": "code",
   "execution_count": 10,
   "metadata": {},
   "outputs": [
    {
     "ename": "NameError",
     "evalue": "name 'lead_largeRjets' is not defined",
     "output_type": "error",
     "traceback": [
      "\u001b[0;31m---------------------------------------------------------------------------\u001b[0m",
      "\u001b[0;31mNameError\u001b[0m                                 Traceback (most recent call last)",
      "\u001b[0;32m<ipython-input-10-5ff0b631a705>\u001b[0m in \u001b[0;36m<module>\u001b[0;34m\u001b[0m\n\u001b[1;32m     18\u001b[0m     \u001b[0mplt\u001b[0m\u001b[0;34m.\u001b[0m\u001b[0mlegend\u001b[0m\u001b[0;34m(\u001b[0m\u001b[0mloc\u001b[0m\u001b[0;34m=\u001b[0m\u001b[0;34m'upper right'\u001b[0m\u001b[0;34m)\u001b[0m\u001b[0;34m\u001b[0m\u001b[0m\n\u001b[1;32m     19\u001b[0m \u001b[0;34m\u001b[0m\u001b[0m\n\u001b[0;32m---> 20\u001b[0;31m \u001b[0mplothadron2d\u001b[0m\u001b[0;34m(\u001b[0m\u001b[0;34m)\u001b[0m\u001b[0;34m\u001b[0m\u001b[0m\n\u001b[0m\u001b[1;32m     21\u001b[0m \u001b[0mprint\u001b[0m\u001b[0;34m(\u001b[0m\u001b[0mlen\u001b[0m\u001b[0;34m(\u001b[0m\u001b[0mpseudojets_input\u001b[0m\u001b[0;34m)\u001b[0m\u001b[0;34m)\u001b[0m\u001b[0;34m\u001b[0m\u001b[0m\n",
      "\u001b[0;32m<ipython-input-10-5ff0b631a705>\u001b[0m in \u001b[0;36mplothadron2d\u001b[0;34m()\u001b[0m\n\u001b[1;32m     13\u001b[0m \u001b[0;31m#     plt.hist2d(x=pseudojets_input['eta'], y=pseudojets_input['phi'], bins=50, facecolor='r', label='background')\u001b[0m\u001b[0;34m\u001b[0m\u001b[0;34m\u001b[0m\u001b[0m\n\u001b[1;32m     14\u001b[0m     \u001b[0mplt\u001b[0m\u001b[0;34m.\u001b[0m\u001b[0mscatter\u001b[0m\u001b[0;34m(\u001b[0m\u001b[0mx\u001b[0m\u001b[0;34m=\u001b[0m\u001b[0mpseudojets_input\u001b[0m\u001b[0;34m[\u001b[0m\u001b[0;34m'eta'\u001b[0m\u001b[0;34m]\u001b[0m\u001b[0;34m,\u001b[0m \u001b[0my\u001b[0m\u001b[0;34m=\u001b[0m\u001b[0mpseudojets_input\u001b[0m\u001b[0;34m[\u001b[0m\u001b[0;34m'phi'\u001b[0m\u001b[0;34m]\u001b[0m\u001b[0;34m,\u001b[0m \u001b[0mmarker\u001b[0m\u001b[0;34m=\u001b[0m\u001b[0;34m'.'\u001b[0m\u001b[0;34m,\u001b[0m \u001b[0mlabel\u001b[0m\u001b[0;34m=\u001b[0m\u001b[0;34m'Hadron'\u001b[0m\u001b[0;34m)\u001b[0m\u001b[0;34m\u001b[0m\u001b[0m\n\u001b[0;32m---> 15\u001b[0;31m     \u001b[0mplt\u001b[0m\u001b[0;34m.\u001b[0m\u001b[0mscatter\u001b[0m\u001b[0;34m(\u001b[0m\u001b[0mx\u001b[0m\u001b[0;34m=\u001b[0m\u001b[0mlead_largeRjets\u001b[0m\u001b[0;34m[\u001b[0m\u001b[0;34m'background'\u001b[0m\u001b[0;34m]\u001b[0m\u001b[0;34m[\u001b[0m\u001b[0;34m'eta'\u001b[0m\u001b[0;34m]\u001b[0m\u001b[0;34m,\u001b[0m \u001b[0my\u001b[0m\u001b[0;34m=\u001b[0m\u001b[0mlead_largeRjets\u001b[0m\u001b[0;34m[\u001b[0m\u001b[0;34m'background'\u001b[0m\u001b[0;34m]\u001b[0m\u001b[0;34m[\u001b[0m\u001b[0;34m'phi'\u001b[0m\u001b[0;34m]\u001b[0m\u001b[0;34m,\u001b[0m \u001b[0mmarker\u001b[0m\u001b[0;34m=\u001b[0m\u001b[0;34m'o'\u001b[0m\u001b[0;34m,\u001b[0m \u001b[0mlabel\u001b[0m\u001b[0;34m=\u001b[0m\u001b[0;34m'Hadron'\u001b[0m\u001b[0;34m)\u001b[0m\u001b[0;34m\u001b[0m\u001b[0m\n\u001b[0m\u001b[1;32m     16\u001b[0m     \u001b[0mplt\u001b[0m\u001b[0;34m.\u001b[0m\u001b[0mxlabel\u001b[0m\u001b[0;34m(\u001b[0m\u001b[0;34mr'$\\eta$'\u001b[0m\u001b[0;34m)\u001b[0m\u001b[0;34m\u001b[0m\u001b[0m\n\u001b[1;32m     17\u001b[0m     \u001b[0mplt\u001b[0m\u001b[0;34m.\u001b[0m\u001b[0mylabel\u001b[0m\u001b[0;34m(\u001b[0m\u001b[0;34mr'$\\phi$'\u001b[0m\u001b[0;34m)\u001b[0m\u001b[0;34m\u001b[0m\u001b[0m\n",
      "\u001b[0;31mNameError\u001b[0m: name 'lead_largeRjets' is not defined"
     ]
    },
    {
     "data": {
      "image/png": "[encoded data removed]",
      "text/plain": [
       "<Figure size 432x288 with 1 Axes>"
      ]
     },
     "metadata": {
      "needs_background": "light"
     },
     "output_type": "display_data"
    }
   ],
   "source": [
    "#Let's make some very simple plots.\n",
    "def plothadron():\n",
    "    fig = plt.figure()\n",
    "    ax = fig.add_subplot(1, 1, 1)\n",
    "    n,b,p = plt.hist(pseudojets_input['eta'], bins=50, facecolor='r', alpha=0.2,label='background')\n",
    "    plt.xlabel(r'$\\eta$')\n",
    "    plt.ylabel('Number of hadrons')\n",
    "    plt.legend(loc='upper right')\n",
    "\n",
    "def plothadron2d():\n",
    "    fig = plt.figure()\n",
    "    ax = fig.add_subplot(1, 1, 1)\n",
    "#     plt.hist2d(x=pseudojets_input['eta'], y=pseudojets_input['phi'], bins=50, facecolor='r', label='background')\n",
    "    plt.scatter(x=pseudojets_input['eta'], y=pseudojets_input['phi'], marker='.', label='Hadron')\n",
    "    plt.scatter(x=lead_largeRjets['background']['eta'], y=lead_largeRjets['background']['phi'], marker='o', label='Hadron')\n",
    "    plt.xlabel(r'$\\eta$')\n",
    "    plt.ylabel(r'$\\phi$')\n",
    "    plt.legend(loc='upper right')\n",
    "    \n",
    "plothadron2d()\n",
    "print(len(pseudojets_input))"
   ]
  },
  {
   "cell_type": "code",
   "execution_count": 26,
   "metadata": {},
   "outputs": [
    {
     "data": {
      "image/png": "[encoded data removed]",
      "text/plain": [
       "<Figure size 432x288 with 1 Axes>"
      ]
     },
     "metadata": {
      "needs_background": "light"
     },
     "output_type": "display_data"
    }
   ],
   "source": [
    "#Let's make some very simple plots.\n",
    "fig = plt.figure()\n",
    "ax = fig.add_subplot(1, 1, 1)\n",
    "n,b,p = plt.hist(leadpT_largeRjets['background'], bins=50, facecolor='r', alpha=0.2,label='background')\n",
    "plt.hist(leadpT_largeRjets['signal'], bins=b, facecolor='b', alpha=0.2,label='signal')\n",
    "plt.xlabel(r'Leading jet $p_{T}$ [GeV]')\n",
    "plt.ylabel('Number of events')\n",
    "plt.legend(loc='upper right')\n",
    "plt.savefig(\"leadjetpt.pdf\")"
   ]
  },
  {
   "cell_type": "code",
   "execution_count": 12,
   "metadata": {},
   "outputs": [],
   "source": [
    "mjj={}\n",
    "for mytype in ['background','signal']:\n",
    "    mjj[mytype]=[]\n",
    "    for k in range(len(all_largeRjets[mytype])):\n",
    "        E = all_largeRjets[mytype][k][0].e+all_largeRjets[mytype][k][1].e\n",
    "        px = all_largeRjets[mytype][k][0].px+all_largeRjets[mytype][k][1].px\n",
    "        py = all_largeRjets[mytype][k][0].py+all_largeRjets[mytype][k][1].py\n",
    "        pz = all_largeRjets[mytype][k][0].pz+all_largeRjets[mytype][k][1].pz\n",
    "        mjj[mytype]+=[(E**2-px**2-py**2-pz**2)**0.5]\n"
   ]
  },
  {
   "cell_type": "code",
   "execution_count": 13,
   "metadata": {},
   "outputs": [
    {
     "data": {
      "image/png": "[encoded data removed]",
      "text/plain": [
       "<Figure size 432x288 with 1 Axes>"
      ]
     },
     "metadata": {
      "needs_background": "light"
     },
     "output_type": "display_data"
    }
   ],
   "source": [
    "fig = plt.figure()\n",
    "ax = fig.add_subplot(1, 1, 1)\n",
    "n,b,p = plt.hist(mjj['background'], bins=50, facecolor='r', alpha=0.2,label='background')\n",
    "plt.hist(mjj['signal'], bins=b, facecolor='b', alpha=0.2,label='signal')\n",
    "plt.xlabel(r'$m_{JJ}$ [GeV]')\n",
    "plt.ylabel('Number of events')\n",
    "plt.legend(loc='upper right')\n",
    "plt.savefig(\"mjj.pdf\")"
   ]
  },
  {
   "cell_type": "code",
   "execution_count": null,
   "metadata": {},
   "outputs": [],
   "source": []
  }
 ],
 "metadata": {
  "kernelspec": {
   "display_name": "Python 3",
   "language": "python",
   "name": "python3"
  },
  "language_info": {
   "codemirror_mode": {
    "name": "ipython",
    "version": 3
   },
   "file_extension": ".py",
   "mimetype": "text/x-python",
   "name": "python",
   "nbconvert_exporter": "python",
   "pygments_lexer": "ipython3",
   "version": "3.7.0"
  }
 },
 "nbformat": 4,
 "nbformat_minor": 2
}

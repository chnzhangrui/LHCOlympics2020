{
 "cells": [
  {
   "cell_type": "code",
   "execution_count": 1,
   "metadata": {},
   "outputs": [],
   "source": [
    "import h5py    \n",
    "import numpy as np \n",
    "import matplotlib.pyplot as plt\n",
    "from pyjet import cluster,DTYPE_PTEPM\n",
    "import pandas as pd"
   ]
  },
  {
   "cell_type": "code",
   "execution_count": 2,
   "metadata": {},
   "outputs": [],
   "source": [
    "f = pd.read_hdf('../h5files/events_anomalydetection.h5', stop=10000) #read only first 'stop' events"
   ]
  },
  {
   "cell_type": "code",
   "execution_count": 3,
   "metadata": {},
   "outputs": [],
   "source": [
    "events_combined = f.T"
   ]
  },
  {
   "cell_type": "code",
   "execution_count": 4,
   "metadata": {},
   "outputs": [
    {
     "data": {
      "text/plain": [
       "(2101, 10000)"
      ]
     },
     "execution_count": 4,
     "metadata": {},
     "output_type": "execute_result"
    }
   ],
   "source": [
    "np.shape(events_combined)\n"
   ]
  },
  {
   "cell_type": "code",
   "execution_count": 36,
   "metadata": {
    "scrolled": true
   },
   "outputs": [
    {
     "name": "stdout",
     "output_type": "stream",
     "text": [
      "background 1\n",
      "signal 1\n",
      "208\n",
      "          0         1         2           3         4         5         6     \\\n",
      "0     0.324101  0.646304  0.325172    0.290918  0.526330  0.307490  0.305228   \n",
      "1    -0.361158 -0.539460 -0.833948   -2.200063 -2.349110 -1.999438 -1.949587   \n",
      "2     2.737669 -1.386258  2.404844    1.630132 -1.745532  2.590663 -2.294166   \n",
      "3     0.409859  0.471293  1.295058    0.565028  0.542491  0.296564  0.611917   \n",
      "4    -2.429939 -1.636572 -2.089618   -1.714345 -2.080352 -2.257138 -1.139748   \n",
      "5     0.729830  0.751657 -1.873342   -2.617103 -3.044045  2.921109  1.495378   \n",
      "6     0.867922  0.453769  0.451272    0.951042  0.390727  0.487133  0.527820   \n",
      "7    -2.267777 -1.099593 -0.101877   -0.532720 -1.278563 -2.188060 -2.143983   \n",
      "8    -1.161310 -0.393405  2.217348    2.941473 -2.131058  3.039020  1.894717   \n",
      "9     0.383031  0.485929  0.461293    0.896248  2.530358  0.347837  0.307497   \n",
      "10   -1.204714 -1.034489 -0.028984   -0.090743 -2.124421 -0.882748 -0.915048   \n",
      "11    0.692571 -2.626943  0.748059   -1.419158 -3.082777  3.126301  2.042675   \n",
      "12    2.308583  1.308777  0.435351    1.127066  0.511763  0.592923  0.684370   \n",
      "13   -1.316314 -1.162715 -0.166395    0.023234 -1.819022 -0.486512 -0.255069   \n",
      "14   -0.029902 -2.064729  2.373116   -0.058817 -0.502271 -3.046754  0.027782   \n",
      "15    2.710120  6.213224  0.650275    1.148541  0.926955  0.263939  0.516742   \n",
      "16   -0.929923 -1.160304 -0.109193    0.039133 -1.870899 -1.879136 -1.036897   \n",
      "17   -0.062794 -2.172412 -0.742657    3.112840 -2.493515 -2.822122  0.287665   \n",
      "18    1.651875  1.881597  1.102768    9.290302  2.346066  1.769322  0.664794   \n",
      "19   -0.754817 -0.957153 -1.091446    0.049765 -1.853707 -2.064593 -0.354170   \n",
      "20   -1.705690 -1.804265  2.964098    2.577035 -2.422741  2.802219 -0.885401   \n",
      "21    1.011992  7.010363  1.527833    6.113865  1.077869  1.004182  1.071003   \n",
      "22   -0.754993 -0.960665 -0.595906    0.035342 -1.728373 -2.016741 -1.470333   \n",
      "23    0.000512 -2.004074 -2.495038    2.702338 -2.304199  2.365874 -0.347601   \n",
      "24    0.972791  1.239485  2.954606  111.840050  3.520617  0.459105  1.254385   \n",
      "25   -0.609129 -0.933134 -0.627097    0.065953 -1.719462 -1.571784 -1.275047   \n",
      "26    0.431733 -2.248476  1.208252    2.597843 -2.641932 -2.451162  2.042964   \n",
      "27    1.243262  1.747983  3.984619   12.585433  1.713168  0.875997  1.758809   \n",
      "28   -0.306729 -0.960665 -0.647615    0.038483 -1.663289 -1.938075 -1.265961   \n",
      "29   -2.451038 -1.642002  2.923575    2.686295 -2.532097  3.102544 -0.563092   \n",
      "...        ...       ...       ...         ...       ...       ...       ...   \n",
      "2071  0.000000  0.000000  0.000000    0.000000  0.000000  0.000000  0.000000   \n",
      "2072  0.000000  0.000000  0.000000    0.000000  0.000000  0.000000  0.000000   \n",
      "2073  0.000000  0.000000  0.000000    0.000000  0.000000  0.000000  0.000000   \n",
      "2074  0.000000  0.000000  0.000000    0.000000  0.000000  0.000000  0.000000   \n",
      "2075  0.000000  0.000000  0.000000    0.000000  0.000000  0.000000  0.000000   \n",
      "2076  0.000000  0.000000  0.000000    0.000000  0.000000  0.000000  0.000000   \n",
      "2077  0.000000  0.000000  0.000000    0.000000  0.000000  0.000000  0.000000   \n",
      "2078  0.000000  0.000000  0.000000    0.000000  0.000000  0.000000  0.000000   \n",
      "2079  0.000000  0.000000  0.000000    0.000000  0.000000  0.000000  0.000000   \n",
      "2080  0.000000  0.000000  0.000000    0.000000  0.000000  0.000000  0.000000   \n",
      "2081  0.000000  0.000000  0.000000    0.000000  0.000000  0.000000  0.000000   \n",
      "2082  0.000000  0.000000  0.000000    0.000000  0.000000  0.000000  0.000000   \n",
      "2083  0.000000  0.000000  0.000000    0.000000  0.000000  0.000000  0.000000   \n",
      "2084  0.000000  0.000000  0.000000    0.000000  0.000000  0.000000  0.000000   \n",
      "2085  0.000000  0.000000  0.000000    0.000000  0.000000  0.000000  0.000000   \n",
      "2086  0.000000  0.000000  0.000000    0.000000  0.000000  0.000000  0.000000   \n",
      "2087  0.000000  0.000000  0.000000    0.000000  0.000000  0.000000  0.000000   \n",
      "2088  0.000000  0.000000  0.000000    0.000000  0.000000  0.000000  0.000000   \n",
      "2089  0.000000  0.000000  0.000000    0.000000  0.000000  0.000000  0.000000   \n",
      "2090  0.000000  0.000000  0.000000    0.000000  0.000000  0.000000  0.000000   \n",
      "2091  0.000000  0.000000  0.000000    0.000000  0.000000  0.000000  0.000000   \n",
      "2092  0.000000  0.000000  0.000000    0.000000  0.000000  0.000000  0.000000   \n",
      "2093  0.000000  0.000000  0.000000    0.000000  0.000000  0.000000  0.000000   \n",
      "2094  0.000000  0.000000  0.000000    0.000000  0.000000  0.000000  0.000000   \n",
      "2095  0.000000  0.000000  0.000000    0.000000  0.000000  0.000000  0.000000   \n",
      "2096  0.000000  0.000000  0.000000    0.000000  0.000000  0.000000  0.000000   \n",
      "2097  0.000000  0.000000  0.000000    0.000000  0.000000  0.000000  0.000000   \n",
      "2098  0.000000  0.000000  0.000000    0.000000  0.000000  0.000000  0.000000   \n",
      "2099  0.000000  0.000000  0.000000    0.000000  0.000000  0.000000  0.000000   \n",
      "2100  0.000000  0.000000  0.000000    0.000000  1.000000  0.000000  0.000000   \n",
      "\n",
      "          7          8           9       ...            9990      9991  \\\n",
      "0     0.550740   0.823849    0.361629    ...       22.549061  0.467982   \n",
      "1    -1.799677  -2.409386   -1.561485    ...       -0.525972 -1.993226   \n",
      "2    -3.037725   0.120901    2.277365    ...       -2.083035 -0.242534   \n",
      "3     0.497987   0.392440    1.756224    ...        6.464812  0.439723   \n",
      "4    -2.165318  -1.953236   -0.967060    ...       -0.523991 -1.169341   \n",
      "5    -2.667260   2.697438    3.027876    ...       -1.829446  0.621607   \n",
      "6     0.355121   0.708495   40.746311    ...        3.742424  0.570948   \n",
      "7    -1.991185  -1.757398   -0.887538    ...       -0.433499 -1.253484   \n",
      "8     1.200913   2.916043   -2.377133    ...       -2.051847  0.440305   \n",
      "9     0.582612   2.463680   75.700859    ...       91.506935  2.144068   \n",
      "10   -1.502765  -1.425364   -0.890177    ...       -0.504784 -1.578551   \n",
      "11   -2.866623  -2.434597   -2.373781    ...       -2.091837  0.348010   \n",
      "12    0.983398   3.061234   64.773827    ...      151.715424  5.333011   \n",
      "13   -2.058433  -1.464743   -0.888198    ...       -0.509198 -1.629692   \n",
      "14    1.822139  -2.586947   -2.379028    ...       -2.089804  1.023983   \n",
      "15    0.816167   7.098839   72.255554    ...       75.037987  2.947054   \n",
      "16   -1.989529  -1.306611   -0.875537    ...       -0.500919 -1.526663   \n",
      "17   -1.575105  -2.213635   -2.387720    ...       -2.099486  0.276985   \n",
      "18    1.093053   1.728285   75.991531    ...       11.188851  5.611257   \n",
      "19   -1.910566  -1.295785   -0.873388    ...       -0.477781 -1.561700   \n",
      "20    2.238748  -2.345995   -2.363438    ...       -2.095373  0.980271   \n",
      "21    0.810187   4.812398   94.292961    ...       38.485004  1.631495   \n",
      "22   -1.477515  -1.231180   -0.876749    ...       -0.468070 -1.427630   \n",
      "23    0.203302  -2.346103   -2.374911    ...       -2.097537  0.724402   \n",
      "24    1.210760   9.235169  181.812836    ...        4.515839  1.987911   \n",
      "25   -1.264817  -1.295216   -0.904822    ...       -0.441049 -1.143013   \n",
      "26   -2.269259  -2.211782   -2.320546    ...       -1.881426  0.310609   \n",
      "27    0.896176  24.002575   45.448818    ...      118.449203  1.210507   \n",
      "28   -1.119202  -1.271914   -0.880935    ...       -0.509827 -1.122318   \n",
      "29   -2.585302  -2.275868   -2.367883    ...       -2.091939 -0.054884   \n",
      "...        ...        ...         ...    ...             ...       ...   \n",
      "2071  0.000000   0.000000    0.000000    ...        0.000000  0.000000   \n",
      "2072  0.000000   0.000000    0.000000    ...        0.000000  0.000000   \n",
      "2073  0.000000   0.000000    0.000000    ...        0.000000  0.000000   \n",
      "2074  0.000000   0.000000    0.000000    ...        0.000000  0.000000   \n",
      "2075  0.000000   0.000000    0.000000    ...        0.000000  0.000000   \n",
      "2076  0.000000   0.000000    0.000000    ...        0.000000  0.000000   \n",
      "2077  0.000000   0.000000    0.000000    ...        0.000000  0.000000   \n",
      "2078  0.000000   0.000000    0.000000    ...        0.000000  0.000000   \n",
      "2079  0.000000   0.000000    0.000000    ...        0.000000  0.000000   \n",
      "2080  0.000000   0.000000    0.000000    ...        0.000000  0.000000   \n",
      "2081  0.000000   0.000000    0.000000    ...        0.000000  0.000000   \n",
      "2082  0.000000   0.000000    0.000000    ...        0.000000  0.000000   \n",
      "2083  0.000000   0.000000    0.000000    ...        0.000000  0.000000   \n",
      "2084  0.000000   0.000000    0.000000    ...        0.000000  0.000000   \n",
      "2085  0.000000   0.000000    0.000000    ...        0.000000  0.000000   \n",
      "2086  0.000000   0.000000    0.000000    ...        0.000000  0.000000   \n",
      "2087  0.000000   0.000000    0.000000    ...        0.000000  0.000000   \n",
      "2088  0.000000   0.000000    0.000000    ...        0.000000  0.000000   \n",
      "2089  0.000000   0.000000    0.000000    ...        0.000000  0.000000   \n",
      "2090  0.000000   0.000000    0.000000    ...        0.000000  0.000000   \n",
      "2091  0.000000   0.000000    0.000000    ...        0.000000  0.000000   \n",
      "2092  0.000000   0.000000    0.000000    ...        0.000000  0.000000   \n",
      "2093  0.000000   0.000000    0.000000    ...        0.000000  0.000000   \n",
      "2094  0.000000   0.000000    0.000000    ...        0.000000  0.000000   \n",
      "2095  0.000000   0.000000    0.000000    ...        0.000000  0.000000   \n",
      "2096  0.000000   0.000000    0.000000    ...        0.000000  0.000000   \n",
      "2097  0.000000   0.000000    0.000000    ...        0.000000  0.000000   \n",
      "2098  0.000000   0.000000    0.000000    ...        0.000000  0.000000   \n",
      "2099  0.000000   0.000000    0.000000    ...        0.000000  0.000000   \n",
      "2100  0.000000   1.000000    0.000000    ...        0.000000  0.000000   \n",
      "\n",
      "            9992       9993        9994       9995      9996      9997  \\\n",
      "0       4.432257   0.487591    1.198400   0.256487  0.319303  0.552500   \n",
      "1      -2.325274  -2.307305   -2.155422  -1.719700 -0.770895 -0.881639   \n",
      "2      -2.555464  -0.740001   -1.551230  -0.833353  3.106929  2.820565   \n",
      "3       0.326687   2.520947    0.437137   0.874030  0.395848  0.437082   \n",
      "4      -0.661042  -2.320902   -2.142012  -1.453976 -0.760495 -2.356772   \n",
      "5      -2.034995  -0.987255   -0.871500  -0.905094 -2.313162  0.061197   \n",
      "6       1.566259   1.050676    0.360941   0.845040  0.424332  0.566442   \n",
      "7      -2.217974  -2.485859   -0.077900  -1.433202 -0.085543 -0.367134   \n",
      "8      -2.486252   0.011657   -2.846759  -0.663276  1.350600 -0.343348   \n",
      "9       0.555989   4.688936    2.262386   6.615189  0.640058  0.510230   \n",
      "10     -0.304620  -2.266312   -0.210274  -1.440984 -0.479365 -0.297834   \n",
      "11     -0.524644  -0.760439   -1.611439  -0.775390 -0.815905  2.960104   \n",
      "12      1.014770   0.361354  191.000290   6.065442  3.191589  0.705687   \n",
      "13     -0.355601  -1.572320   -0.193384  -1.423215 -1.492458 -1.950919   \n",
      "14     -0.056140  -1.478812   -1.665960  -0.713784  2.256663 -1.970588   \n",
      "15      5.195292   2.632887   59.177597  15.552257  2.921529  0.614566   \n",
      "16     -0.274961  -1.803970   -0.196249  -1.440399 -1.487226 -1.150006   \n",
      "17     -0.365141  -2.113805   -1.670086  -0.737661  2.161007 -1.796941   \n",
      "18      2.074670   2.712294   16.220436  31.117319  1.030607  0.674020   \n",
      "19     -0.124882  -1.461100   -0.192566  -1.432068 -1.449013 -0.634334   \n",
      "20     -0.557753   2.773931   -1.609422  -0.689000  2.094638 -0.264037   \n",
      "21      4.573340   8.601647    8.984287  17.819357  0.925539  1.331756   \n",
      "22     -0.007164  -1.308248   -0.196416  -1.403603 -1.348810 -1.627162   \n",
      "23     -0.605166   2.714578   -1.713732  -0.698182  2.558024 -1.407347   \n",
      "24      2.676435   6.927915   75.846191  20.165510  1.433329  0.859210   \n",
      "25     -0.008485  -1.370618   -0.176823  -1.450522 -1.418281 -1.681125   \n",
      "26     -0.572977   2.660342   -1.663955  -0.709365  2.152658 -0.340199   \n",
      "27    115.620682  65.467270   41.471367  10.929482  9.170391  0.761000   \n",
      "28     -0.005615  -1.292740   -0.186870  -1.435555 -1.327897 -1.044381   \n",
      "29      2.439798   2.712744   -1.647922  -0.710919  2.176132 -1.175661   \n",
      "...          ...        ...         ...        ...       ...       ...   \n",
      "2071    0.000000   0.000000    0.000000   0.000000  0.000000  0.000000   \n",
      "2072    0.000000   0.000000    0.000000   0.000000  0.000000  0.000000   \n",
      "2073    0.000000   0.000000    0.000000   0.000000  0.000000  0.000000   \n",
      "2074    0.000000   0.000000    0.000000   0.000000  0.000000  0.000000   \n",
      "2075    0.000000   0.000000    0.000000   0.000000  0.000000  0.000000   \n",
      "2076    0.000000   0.000000    0.000000   0.000000  0.000000  0.000000   \n",
      "2077    0.000000   0.000000    0.000000   0.000000  0.000000  0.000000   \n",
      "2078    0.000000   0.000000    0.000000   0.000000  0.000000  0.000000   \n",
      "2079    0.000000   0.000000    0.000000   0.000000  0.000000  0.000000   \n",
      "2080    0.000000   0.000000    0.000000   0.000000  0.000000  0.000000   \n",
      "2081    0.000000   0.000000    0.000000   0.000000  0.000000  0.000000   \n",
      "2082    0.000000   0.000000    0.000000   0.000000  0.000000  0.000000   \n",
      "2083    0.000000   0.000000    0.000000   0.000000  0.000000  0.000000   \n",
      "2084    0.000000   0.000000    0.000000   0.000000  0.000000  0.000000   \n",
      "2085    0.000000   0.000000    0.000000   0.000000  0.000000  0.000000   \n",
      "2086    0.000000   0.000000    0.000000   0.000000  0.000000  0.000000   \n",
      "2087    0.000000   0.000000    0.000000   0.000000  0.000000  0.000000   \n",
      "2088    0.000000   0.000000    0.000000   0.000000  0.000000  0.000000   \n",
      "2089    0.000000   0.000000    0.000000   0.000000  0.000000  0.000000   \n",
      "2090    0.000000   0.000000    0.000000   0.000000  0.000000  0.000000   \n",
      "2091    0.000000   0.000000    0.000000   0.000000  0.000000  0.000000   \n",
      "2092    0.000000   0.000000    0.000000   0.000000  0.000000  0.000000   \n",
      "2093    0.000000   0.000000    0.000000   0.000000  0.000000  0.000000   \n",
      "2094    0.000000   0.000000    0.000000   0.000000  0.000000  0.000000   \n",
      "2095    0.000000   0.000000    0.000000   0.000000  0.000000  0.000000   \n",
      "2096    0.000000   0.000000    0.000000   0.000000  0.000000  0.000000   \n",
      "2097    0.000000   0.000000    0.000000   0.000000  0.000000  0.000000   \n",
      "2098    0.000000   0.000000    0.000000   0.000000  0.000000  0.000000   \n",
      "2099    0.000000   0.000000    0.000000   0.000000  0.000000  0.000000   \n",
      "2100    0.000000   0.000000    0.000000   0.000000  0.000000  0.000000   \n",
      "\n",
      "          9998       9999  \n",
      "0     0.338862   0.626047  \n",
      "1    -0.868035  -1.238908  \n",
      "2     2.984343   0.505947  \n",
      "3     0.661918   0.414505  \n",
      "4    -0.647047  -0.594919  \n",
      "5     0.326055  -0.018291  \n",
      "6     0.628247   0.367740  \n",
      "7    -0.572698  -0.814306  \n",
      "8    -0.351360  -2.604479  \n",
      "9     0.783639   0.640890  \n",
      "10   -1.694335  -1.577887  \n",
      "11   -3.047991  -1.977474  \n",
      "12    0.548494   0.907436  \n",
      "13   -1.444790  -1.729135  \n",
      "14    0.403180  -2.839557  \n",
      "15    0.422909   2.680445  \n",
      "16   -1.723433  -1.698862  \n",
      "17   -0.374195  -1.671530  \n",
      "18    0.651615  12.760111  \n",
      "19   -0.318928  -1.667504  \n",
      "20    2.754248  -1.831700  \n",
      "21    0.788738  10.405128  \n",
      "22   -0.491499  -1.617684  \n",
      "23   -1.199233  -1.832963  \n",
      "24    2.256593  81.745087  \n",
      "25   -1.250232  -1.626925  \n",
      "26   -0.018246  -1.869951  \n",
      "27    1.755804  62.086178  \n",
      "28   -1.246910  -1.623809  \n",
      "29   -0.278342  -1.878374  \n",
      "...        ...        ...  \n",
      "2071  0.000000   0.000000  \n",
      "2072  0.000000   0.000000  \n",
      "2073  0.000000   0.000000  \n",
      "2074  0.000000   0.000000  \n",
      "2075  0.000000   0.000000  \n",
      "2076  0.000000   0.000000  \n",
      "2077  0.000000   0.000000  \n",
      "2078  0.000000   0.000000  \n",
      "2079  0.000000   0.000000  \n",
      "2080  0.000000   0.000000  \n",
      "2081  0.000000   0.000000  \n",
      "2082  0.000000   0.000000  \n",
      "2083  0.000000   0.000000  \n",
      "2084  0.000000   0.000000  \n",
      "2085  0.000000   0.000000  \n",
      "2086  0.000000   0.000000  \n",
      "2087  0.000000   0.000000  \n",
      "2088  0.000000   0.000000  \n",
      "2089  0.000000   0.000000  \n",
      "2090  0.000000   0.000000  \n",
      "2091  0.000000   0.000000  \n",
      "2092  0.000000   0.000000  \n",
      "2093  0.000000   0.000000  \n",
      "2094  0.000000   0.000000  \n",
      "2095  0.000000   0.000000  \n",
      "2096  0.000000   0.000000  \n",
      "2097  0.000000   0.000000  \n",
      "2098  0.000000   0.000000  \n",
      "2099  0.000000   0.000000  \n",
      "2100  0.000000   0.000000  \n",
      "\n",
      "[2101 rows x 10000 columns]\n"
     ]
    }
   ],
   "source": [
    "#Now, let's cluster some jets more efficiently!\n",
    "all_largeRjets = {}\n",
    "all_smallRjets = {}\n",
    "for mytype in ['background','signal']:\n",
    "    all_largeRjets[mytype]=[]\n",
    "    all_smallRjets[mytype]=[]\n",
    "    \n",
    "    for ievt in range(2): #len(events_combined)):\n",
    "        if ievt%10000==0:\n",
    "            print(mytype,i)\n",
    "        issignal = events_combined[ievt][2100]\n",
    "        if (mytype=='background' and issignal):\n",
    "            continue\n",
    "        elif (mytype=='signal' and issignal==0):\n",
    "            continue\n",
    "        pseudojets_input = np.zeros(len([x for x in events_combined[ievt][::3] if x > 0]), dtype=DTYPE_PTEPM)\n",
    "        events_filled = events_combined[ievt][:np.shape(pseudojets_input)[0]*3].values.reshape(np.shape(pseudojets_input)[0], 3)\n",
    "\n",
    "        pseudojets_input['pT'] = events_filled[:, 0]\n",
    "        pseudojets_input['eta'] = events_filled[:, 1]\n",
    "        pseudojets_input['phi'] = events_filled[:, 2]\n",
    "        largeR = cluster(pseudojets_input, R=1.0, p=-1)\n",
    "        largeRjets = largeR.inclusive_jets(ptmin=20)\n",
    "        smallR = cluster(pseudojets_input, R=0.4, p=-1)\n",
    "        smallRjets = smallR.inclusive_jets(ptmin=20)\n",
    "\n",
    "        all_largeRjets[mytype] += [largeRjets]\n",
    "        all_smallRjets[mytype] += [smallRjets]\n",
    "\n"
   ]
  },
  {
   "cell_type": "code",
   "execution_count": 31,
   "metadata": {},
   "outputs": [
    {
     "name": "stdout",
     "output_type": "stream",
     "text": [
      "{'background': {'pt': [1286.7276854490954, 1354.3940698848066], 'eta': [0.18550794794312087, 0.8265051414289109], 'phi': [-2.763675891801303, 1.365523633651283]}, 'signal': {'pt': [], 'eta': [], 'phi': []}}\n",
      "{'background': {'pt': [1283.2207326902046, 1325.6137608136994], 'eta': [0.06498900849564969, -0.8743185375384193], 'phi': [0.39368816771965853, -1.786248193195]}, 'signal': {'pt': [], 'eta': [], 'phi': []}}\n",
      "{'background': {'pt': [1279.906610860791, 954.404333031428], 'eta': [0.06585384358803455, -0.9045016823841067], 'phi': [0.39442750034110124, -1.973366094601893]}, 'signal': {'pt': [], 'eta': [], 'phi': []}}\n",
      "{'background': {'pt': [1265.8894929390256, 558.7461496692064], 'eta': [0.18690467863515517, 1.150571770185542], 'phi': [-2.771421118698681, 1.125129335842131]}, 'signal': {'pt': [], 'eta': [], 'phi': []}}\n"
     ]
    }
   ],
   "source": [
    "def getJet(alljets, index):\n",
    "    jet = {}\n",
    "    for mytype in ['background','signal']:\n",
    "        jet[mytype]={'pt':[], 'eta':[], 'phi':[]}\n",
    "        for ievt in range(len(all_largeRjets[mytype])):\n",
    "            jet[mytype]['pt'] += [alljets[mytype][ievt][index].pt]\n",
    "            jet[mytype]['eta'] += [alljets[mytype][ievt][index].eta]\n",
    "            jet[mytype]['phi'] += [alljets[mytype][ievt][index].phi]\n",
    "    return jet\n",
    "\n",
    "lead_largeRjets, sublead_largeRjets = getJet(all_largeRjets, 0), getJet(all_largeRjets, 1)\n",
    "lead_smallRjets, sublead_smallRjets = getJet(all_smallRjets, 0), getJet(all_smallRjets, 1)\n",
    "print(lead_largeRjets)\n",
    "print(sublead_largeRjets)\n",
    "print(lead_smallRjets)\n",
    "print(sublead_smallRjets)\n"
   ]
  },
  {
   "cell_type": "code",
   "execution_count": 54,
   "metadata": {},
   "outputs": [
    {
     "name": "stdout",
     "output_type": "stream",
     "text": [
      "208\n"
     ]
    },
    {
     "data": {
      "image/png": "[encoded data removed]",
      "text/plain": [
       "<Figure size 432x288 with 1 Axes>"
      ]
     },
     "metadata": {
      "needs_background": "light"
     },
     "output_type": "display_data"
    }
   ],
   "source": [
    "#Let's make some very simple plots.\n",
    "def plothadron():\n",
    "    fig = plt.figure()\n",
    "    ax = fig.add_subplot(1, 1, 1)\n",
    "    n,b,p = plt.hist(pseudojets_input['eta'], bins=50, facecolor='r', alpha=0.2,label='background')\n",
    "    plt.xlabel(r'$\\eta$')\n",
    "    plt.ylabel('Number of hadrons')\n",
    "    plt.legend(loc='upper right')\n",
    "\n",
    "def plothadron2d():\n",
    "    fig = plt.figure()\n",
    "    ax = fig.add_subplot(1, 1, 1)\n",
    "#     plt.hist2d(x=pseudojets_input['eta'], y=pseudojets_input['phi'], bins=50, facecolor='r', label='background')\n",
    "    plt.scatter(x=pseudojets_input['eta'], y=pseudojets_input['phi'], marker='.', label='Hadron')\n",
    "    plt.scatter(x=lead_largeRjets['background']['eta'], y=lead_largeRjets['background']['phi'], marker='o', label='Hadron')\n",
    "    plt.xlabel(r'$\\eta$')\n",
    "    plt.ylabel(r'$\\phi$')\n",
    "    plt.legend(loc='upper right')\n",
    "    \n",
    "plothadron2d()\n",
    "print(len(pseudojets_input))"
   ]
  },
  {
   "cell_type": "code",
   "execution_count": 26,
   "metadata": {},
   "outputs": [
    {
     "data": {
      "image/png": "[encoded data removed]",
      "text/plain": [
       "<Figure size 432x288 with 1 Axes>"
      ]
     },
     "metadata": {
      "needs_background": "light"
     },
     "output_type": "display_data"
    }
   ],
   "source": [
    "#Let's make some very simple plots.\n",
    "fig = plt.figure()\n",
    "ax = fig.add_subplot(1, 1, 1)\n",
    "n,b,p = plt.hist(leadpT_largeRjets['background'], bins=50, facecolor='r', alpha=0.2,label='background')\n",
    "plt.hist(leadpT_largeRjets['signal'], bins=b, facecolor='b', alpha=0.2,label='signal')\n",
    "plt.xlabel(r'Leading jet $p_{T}$ [GeV]')\n",
    "plt.ylabel('Number of events')\n",
    "plt.legend(loc='upper right')\n",
    "plt.savefig(\"leadjetpt.pdf\")"
   ]
  },
  {
   "cell_type": "code",
   "execution_count": 12,
   "metadata": {},
   "outputs": [],
   "source": [
    "mjj={}\n",
    "for mytype in ['background','signal']:\n",
    "    mjj[mytype]=[]\n",
    "    for k in range(len(all_largeRjets[mytype])):\n",
    "        E = all_largeRjets[mytype][k][0].e+all_largeRjets[mytype][k][1].e\n",
    "        px = all_largeRjets[mytype][k][0].px+all_largeRjets[mytype][k][1].px\n",
    "        py = all_largeRjets[mytype][k][0].py+all_largeRjets[mytype][k][1].py\n",
    "        pz = all_largeRjets[mytype][k][0].pz+all_largeRjets[mytype][k][1].pz\n",
    "        mjj[mytype]+=[(E**2-px**2-py**2-pz**2)**0.5]\n"
   ]
  },
  {
   "cell_type": "code",
   "execution_count": 13,
   "metadata": {},
   "outputs": [
    {
     "data": {
      "image/png": "[encoded data removed]",
      "text/plain": [
       "<Figure size 432x288 with 1 Axes>"
      ]
     },
     "metadata": {
      "needs_background": "light"
     },
     "output_type": "display_data"
    }
   ],
   "source": [
    "fig = plt.figure()\n",
    "ax = fig.add_subplot(1, 1, 1)\n",
    "n,b,p = plt.hist(mjj['background'], bins=50, facecolor='r', alpha=0.2,label='background')\n",
    "plt.hist(mjj['signal'], bins=b, facecolor='b', alpha=0.2,label='signal')\n",
    "plt.xlabel(r'$m_{JJ}$ [GeV]')\n",
    "plt.ylabel('Number of events')\n",
    "plt.legend(loc='upper right')\n",
    "plt.savefig(\"mjj.pdf\")"
   ]
  },
  {
   "cell_type": "code",
   "execution_count": null,
   "metadata": {},
   "outputs": [],
   "source": []
  }
 ],
 "metadata": {
  "kernelspec": {
   "display_name": "Python 3",
   "language": "python",
   "name": "python3"
  },
  "language_info": {
   "codemirror_mode": {
    "name": "ipython",
    "version": 3
   },
   "file_extension": ".py",
   "mimetype": "text/x-python",
   "name": "python",
   "nbconvert_exporter": "python",
   "pygments_lexer": "ipython3",
   "version": "3.7.0"
  }
 },
 "nbformat": 4,
 "nbformat_minor": 2
}

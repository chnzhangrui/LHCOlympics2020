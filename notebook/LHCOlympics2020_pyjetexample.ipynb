{
 "cells": [
  {
   "cell_type": "code",
   "execution_count": 2,
   "metadata": {},
   "outputs": [],
   "source": [
    "import h5py    \n",
    "import numpy as np \n",
    "import matplotlib.pyplot as plt\n",
    "from pyjet import cluster,DTYPE_PTEPM\n",
    "import pandas as pd\n",
    "from matplotlib.pyplot import cm\n",
    "from matplotlib.colors import LinearSegmentedColormap"
   ]
  },
  {
   "cell_type": "code",
   "execution_count": 3,
   "metadata": {},
   "outputs": [],
   "source": [
    "f = pd.read_hdf('../h5files/events_anomalydetection.h5', stop=10000) #read only first 'stop' events"
   ]
  },
  {
   "cell_type": "code",
   "execution_count": 4,
   "metadata": {},
   "outputs": [
    {
     "data": {
      "text/plain": [
       "(2101, 10000)"
      ]
     },
     "execution_count": 4,
     "metadata": {},
     "output_type": "execute_result"
    }
   ],
   "source": [
    "events_combined = f.T\n",
    "np.shape(events_combined)\n"
   ]
  },
  {
   "cell_type": "code",
   "execution_count": 27,
   "metadata": {
    "scrolled": false
   },
   "outputs": [
    {
     "name": "stdout",
     "output_type": "stream",
     "text": [
      "background 0\n",
      "signal 0\n"
     ]
    }
   ],
   "source": [
    "fillGhost = True\n",
    "plotArea = False\n",
    "\n",
    "#Now, let's cluster some jets more efficiently!\n",
    "all_largeRjets = {}\n",
    "all_smallRjets = {}\n",
    "all_hadrons = {}\n",
    "\n",
    "all_largeRjets_ghost = {}\n",
    "all_smallRjets_ghost = {}\n",
    "all_hadrons_ghost = {}\n",
    "\n",
    "\n",
    "# define eta and phi ranges and number of bins along each axis\n",
    "eta_min, eta_max = -5., 5.\n",
    "extent = eta_min, eta_max, -np.pi, np.pi\n",
    "bins = 200\n",
    "kt, r, R=-1, 0.4, 1.0\n",
    "pcut = 20\n",
    "\n",
    "for mytype in ['background','signal']:\n",
    "    all_largeRjets[mytype]=[]\n",
    "    all_smallRjets[mytype]=[]\n",
    "    all_hadrons[mytype]=[]\n",
    "    all_largeRjets_ghost[mytype]=[]\n",
    "    all_smallRjets_ghost[mytype]=[]\n",
    "    all_hadrons_ghost[mytype]=[]\n",
    "    \n",
    "    for ievt in range(2): #len(events_combined)):\n",
    "        if ievt%10000==0:\n",
    "            print(mytype,ievt)\n",
    "        issignal = events_combined[ievt][2100]\n",
    "        if (mytype=='background' and issignal):\n",
    "            continue\n",
    "        elif (mytype=='signal' and issignal==0):\n",
    "            continue\n",
    "        pseudojets_input = np.zeros(len([x for x in events_combined[ievt][::3] if x > 0]), dtype=DTYPE_PTEPM)\n",
    "        events_filled = events_combined[ievt][:np.shape(pseudojets_input)[0]*3].values.reshape(np.shape(pseudojets_input)[0], 3)\n",
    "\n",
    "        pseudojets_input['pT'] = events_filled[:, 0]\n",
    "        pseudojets_input['eta'] = events_filled[:, 1]\n",
    "        pseudojets_input['phi'] = events_filled[:, 2]\n",
    "        largeR = cluster(pseudojets_input, R=R, p=kt)\n",
    "        largeRjets = largeR.inclusive_jets(ptmin=pcut)\n",
    "        smallR = cluster(pseudojets_input, R=r, p=kt)\n",
    "        smallRjets = smallR.inclusive_jets(ptmin=pcut)\n",
    "\n",
    "        all_largeRjets[mytype] += [largeRjets]\n",
    "        all_smallRjets[mytype] += [smallRjets]\n",
    "        all_hadrons[mytype] += [pseudojets_input]\n",
    "    \n",
    "    \n",
    "        if fillGhost:\n",
    "            # create regular grid of ghosts\n",
    "            eta_edges = np.linspace(eta_min, eta_max, bins + 1)\n",
    "            phi_edges = np.linspace(-np.pi, np.pi, bins + 1)\n",
    "            eta = np.linspace(eta_min, eta_max, bins + 1)[:-1] + (eta_max - eta_min) / (2 * bins)\n",
    "            phi = np.linspace(-np.pi, np.pi, bins + 1)[:-1] + (np.pi / bins)\n",
    "            X, Y = np.meshgrid(eta, phi)\n",
    "            ghosts = np.zeros(eta.shape[0] * phi.shape[0], dtype=DTYPE_PTEPM)\n",
    "            ghosts['pT'], ghosts['eta'], ghosts['phi'] = 1e-8, X.ravel(), Y.ravel()\n",
    "            \n",
    "            pseudojets_input_ghost = np.concatenate([pseudojets_input, ghosts])\n",
    "            \n",
    "            largeR_ghost = cluster(pseudojets_input_ghost, R=R, p=kt)\n",
    "            largeRjets_ghost = largeR_ghost.inclusive_jets(ptmin=pcut)\n",
    "            all_largeRjets_ghost[mytype] += [largeRjets_ghost]\n",
    "            all_hadrons_ghost[mytype] += [pseudojets_input_ghost]\n",
    "\n",
    "\n",
    "            smallR_ghost = cluster(pseudojets_input_ghost, R=0.4, p=-1)\n",
    "            smallRjets_ghost = smallR_ghost.inclusive_jets(ptmin=20)\n",
    "\n",
    "            all_smallRjets_ghost[mytype] += [smallRjets_ghost]\n",
    "\n",
    "        if plotArea:\n",
    "            fig = plt.figure(figsize=(9, 3))\n",
    "\n",
    "            # cluster\n",
    "            sequence = cluster(pseudojets_input_ghost, R=1.0, p=-1)\n",
    "            jets = sequence.inclusive_jets(ptmin=20)\n",
    "            largeRjets = jets\n",
    "\n",
    "            ax = None\n",
    "\n",
    "            # pick a different color for each jet\n",
    "            colors = cm.rainbow(np.linspace(0, 1, len(largeRjets)))\n",
    "            cmap = LinearSegmentedColormap.from_list('cmap', colors, len(colors))\n",
    "            ax = fig.add_subplot(1, 1, 1, sharey=ax)\n",
    "            area = np.zeros((eta_edges.shape[0] - 1, phi_edges.shape[0] - 1),\n",
    "                            dtype=np.float64)\n",
    "            for ijet, jet in enumerate(largeRjets):\n",
    "                constit = jet.constituents_array()\n",
    "                jetarea, _, _ = np.histogram2d(constit['eta'], constit['phi'],\n",
    "                                               bins=(eta_edges, phi_edges))\n",
    "                area += (jetarea > 0) * (ijet + 1)\n",
    "\n",
    "            # plot all areas\n",
    "            ax.imshow(np.ma.masked_where(area == 0, area).T, cmap=cmap,\n",
    "                      extent=extent, aspect=(eta_max - eta_min) / (2*np.pi),\n",
    "                      interpolation='none', origin='lower')\n",
    "\n",
    "            # overlay original event\n",
    "            particles = pseudojets_input\n",
    "            ax.scatter(particles['eta'], particles['phi'], s=30 * particles['pT'] / particles['pT'].max())\n",
    "            ax.set_xlim(extent[:2])\n",
    "            ax.set_ylim(extent[2:])\n",
    "            ax.set_ylabel(r'$\\phi$')\n",
    "            ax.set_xlabel(r'$\\eta$')\n",
    "\n",
    "            ax.text(0.95, 0.05, r'anti-$k_t$',\n",
    "                verticalalignment='bottom', horizontalalignment='right',\n",
    "                transform=ax.transAxes,\n",
    "                fontsize=12)\n",
    "\n",
    "            fig.subplots_adjust(hspace=0)\n",
    "            plt.setp([a.get_yticklabels() for a in fig.axes[1:]], visible=False)\n",
    "            fig.tight_layout()"
   ]
  },
  {
   "cell_type": "code",
   "execution_count": 28,
   "metadata": {},
   "outputs": [],
   "source": [
    "def getJet(alljets, index):\n",
    "    jet = {}\n",
    "    for mytype in ['background','signal']:\n",
    "        jet[mytype]={'pt':[], 'eta':[], 'phi':[]}\n",
    "        for ievt in range(len(all_largeRjets[mytype])):\n",
    "            jet[mytype]['pt'] += [alljets[mytype][ievt][index].pt]\n",
    "            jet[mytype]['eta'] += [alljets[mytype][ievt][index].eta]\n",
    "            jet[mytype]['phi'] += [alljets[mytype][ievt][index].phi]\n",
    "    return jet\n",
    "\n",
    "lead_largeRjets, sublead_largeRjets = getJet(all_largeRjets, 0), getJet(all_largeRjets, 1)\n",
    "lead_smallRjets, sublead_smallRjets = getJet(all_smallRjets, 0), getJet(all_smallRjets, 1)\n"
   ]
  },
  {
   "cell_type": "code",
   "execution_count": 29,
   "metadata": {},
   "outputs": [
    {
     "data": {
      "image/png": "[encoded data removed]",
      "text/plain": [
       "<Figure size 648x216 with 1 Axes>"
      ]
     },
     "metadata": {
      "needs_background": "light"
     },
     "output_type": "display_data"
    },
    {
     "data": {
      "image/png": "[encoded data removed]",
      "text/plain": [
       "<Figure size 648x216 with 1 Axes>"
      ]
     },
     "metadata": {
      "needs_background": "light"
     },
     "output_type": "display_data"
    }
   ],
   "source": [
    "from matplotlib.pyplot import cm\n",
    "from matplotlib.colors import LinearSegmentedColormap\n",
    "\n",
    "def plot_jet_area(all_hadrons_ghost = all_hadrons_ghost, all_largeRjets_ghost = all_largeRjets_ghost, mytype = 'background', ievt = 0):\n",
    "    event = all_largeRjets_ghost[mytype][ievt]\n",
    "\n",
    "    fig = plt.figure(figsize=(9, 3))\n",
    "\n",
    "    ax = None\n",
    "\n",
    "    # pick a different color for each jet\n",
    "    colors = cm.rainbow(np.linspace(0, 1, len(event)))\n",
    "    cmap = LinearSegmentedColormap.from_list('cmap', colors, len(colors))\n",
    "    ax = fig.add_subplot(1, 1, 1, sharey=ax)\n",
    "    area = np.zeros((eta_edges.shape[0] - 1, phi_edges.shape[0] - 1),\n",
    "                    dtype=np.float64)\n",
    "    for ijet, jet in enumerate(event):\n",
    "        constit = jet.constituents_array()\n",
    "        jetarea, _, _ = np.histogram2d(constit['eta'], constit['phi'],\n",
    "                                       bins=(eta_edges, phi_edges))\n",
    "        area += (jetarea > 0) * (ijet + 1)\n",
    "\n",
    "    # plot all areas\n",
    "    ax.imshow(np.ma.masked_where(area == 0, area).T, cmap=cmap,\n",
    "              extent=extent, aspect=(eta_max - eta_min) / (2*np.pi),\n",
    "              interpolation='none', origin='lower')\n",
    "\n",
    "    # overlay original event\n",
    "    particles = all_hadrons_ghost[mytype][ievt]\n",
    "#     print('particles', len(particles), particles['eta'], particles['phi'])\n",
    "#     print('event',len(event))\n",
    "    ax.scatter(particles['eta'], particles['phi'], s=30 * particles['pT'] / particles['pT'].max())\n",
    "    ax.set_xlim(extent[:2])\n",
    "    ax.set_ylim(extent[2:])\n",
    "    ax.set_ylabel(r'$\\phi$')\n",
    "    ax.set_xlabel(r'$\\eta$')\n",
    "\n",
    "    ax.text(0.95, 0.05, r'anti-$k_t$',\n",
    "        verticalalignment='bottom', horizontalalignment='right',\n",
    "        transform=ax.transAxes,\n",
    "        fontsize=12)\n",
    "\n",
    "    fig.subplots_adjust(hspace=0)\n",
    "    plt.setp([a.get_yticklabels() for a in fig.axes[1:]], visible=False)\n",
    "    fig.tight_layout()\n",
    "    \n",
    "for mytype in ['background','signal']:\n",
    "    for ievt in range(len(all_largeRjets_ghost[mytype])):\n",
    "        plot_jet_area(all_hadrons_ghost = all_hadrons_ghost, all_largeRjets_ghost = all_largeRjets_ghost, mytype = mytype, ievt = ievt)\n"
   ]
  },
  {
   "cell_type": "code",
   "execution_count": 32,
   "metadata": {},
   "outputs": [
    {
     "data": {
      "image/png": "[encoded data removed]",
      "text/plain": [
       "<Figure size 432x288 with 1 Axes>"
      ]
     },
     "metadata": {
      "needs_background": "light"
     },
     "output_type": "display_data"
    },
    {
     "data": {
      "image/png": "[encoded data removed]",
      "text/plain": [
       "<Figure size 432x288 with 1 Axes>"
      ]
     },
     "metadata": {
      "needs_background": "light"
     },
     "output_type": "display_data"
    }
   ],
   "source": [
    "#Let's make some very simple plots.\n",
    "def plothadron():\n",
    "    fig = plt.figure()\n",
    "    ax = fig.add_subplot(1, 1, 1)\n",
    "    n,b,p = plt.hist(pseudojets_input['eta'], bins=50, facecolor='r', alpha=0.2,label='background')\n",
    "    plt.xlabel(r'$\\eta$')\n",
    "    plt.ylabel('Number of hadrons')\n",
    "    plt.legend(loc='upper right')\n",
    "\n",
    "def plothadron2d(all_hadrons, mytype, ievt):\n",
    "    fig = plt.figure()\n",
    "    ax = fig.add_subplot(1, 1, 1)\n",
    "    plt.scatter(x=all_hadrons[mytype][ievt]['eta'], y=all_hadrons[mytype][ievt]['phi'], marker='.', label='Hadron')\n",
    "    \n",
    "    plt.scatter(x=lead_largeRjets['background']['eta'], y=lead_largeRjets['background']['phi'], marker='o', label='Large R jet')\n",
    "    plt.xlabel(r'$\\eta$')\n",
    "    plt.ylabel(r'$\\phi$')\n",
    "    plt.legend(loc='upper right')\n",
    "\n",
    "for mytype in ['background','signal']:\n",
    "    for ievt in range(len(all_largeRjets_ghost[mytype])):\n",
    "        plothadron2d(all_hadrons, mytype, ievt)\n"
   ]
  },
  {
   "cell_type": "code",
   "execution_count": 33,
   "metadata": {},
   "outputs": [
    {
     "ename": "NameError",
     "evalue": "name 'leadpT_largeRjets' is not defined",
     "output_type": "error",
     "traceback": [
      "\u001b[0;31m---------------------------------------------------------------------------\u001b[0m",
      "\u001b[0;31mNameError\u001b[0m                                 Traceback (most recent call last)",
      "\u001b[0;32m<ipython-input-33-7cd2f0c5ab5d>\u001b[0m in \u001b[0;36m<module>\u001b[0;34m\u001b[0m\n\u001b[1;32m      2\u001b[0m \u001b[0mfig\u001b[0m \u001b[0;34m=\u001b[0m \u001b[0mplt\u001b[0m\u001b[0;34m.\u001b[0m\u001b[0mfigure\u001b[0m\u001b[0;34m(\u001b[0m\u001b[0;34m)\u001b[0m\u001b[0;34m\u001b[0m\u001b[0m\n\u001b[1;32m      3\u001b[0m \u001b[0max\u001b[0m \u001b[0;34m=\u001b[0m \u001b[0mfig\u001b[0m\u001b[0;34m.\u001b[0m\u001b[0madd_subplot\u001b[0m\u001b[0;34m(\u001b[0m\u001b[0;36m1\u001b[0m\u001b[0;34m,\u001b[0m \u001b[0;36m1\u001b[0m\u001b[0;34m,\u001b[0m \u001b[0;36m1\u001b[0m\u001b[0;34m)\u001b[0m\u001b[0;34m\u001b[0m\u001b[0m\n\u001b[0;32m----> 4\u001b[0;31m \u001b[0mn\u001b[0m\u001b[0;34m,\u001b[0m\u001b[0mb\u001b[0m\u001b[0;34m,\u001b[0m\u001b[0mp\u001b[0m \u001b[0;34m=\u001b[0m \u001b[0mplt\u001b[0m\u001b[0;34m.\u001b[0m\u001b[0mhist\u001b[0m\u001b[0;34m(\u001b[0m\u001b[0mleadpT_largeRjets\u001b[0m\u001b[0;34m[\u001b[0m\u001b[0;34m'background'\u001b[0m\u001b[0;34m]\u001b[0m\u001b[0;34m,\u001b[0m \u001b[0mbins\u001b[0m\u001b[0;34m=\u001b[0m\u001b[0;36m50\u001b[0m\u001b[0;34m,\u001b[0m \u001b[0mfacecolor\u001b[0m\u001b[0;34m=\u001b[0m\u001b[0;34m'r'\u001b[0m\u001b[0;34m,\u001b[0m \u001b[0malpha\u001b[0m\u001b[0;34m=\u001b[0m\u001b[0;36m0.2\u001b[0m\u001b[0;34m,\u001b[0m\u001b[0mlabel\u001b[0m\u001b[0;34m=\u001b[0m\u001b[0;34m'background'\u001b[0m\u001b[0;34m)\u001b[0m\u001b[0;34m\u001b[0m\u001b[0m\n\u001b[0m\u001b[1;32m      5\u001b[0m \u001b[0mplt\u001b[0m\u001b[0;34m.\u001b[0m\u001b[0mhist\u001b[0m\u001b[0;34m(\u001b[0m\u001b[0mleadpT_largeRjets\u001b[0m\u001b[0;34m[\u001b[0m\u001b[0;34m'signal'\u001b[0m\u001b[0;34m]\u001b[0m\u001b[0;34m,\u001b[0m \u001b[0mbins\u001b[0m\u001b[0;34m=\u001b[0m\u001b[0mb\u001b[0m\u001b[0;34m,\u001b[0m \u001b[0mfacecolor\u001b[0m\u001b[0;34m=\u001b[0m\u001b[0;34m'b'\u001b[0m\u001b[0;34m,\u001b[0m \u001b[0malpha\u001b[0m\u001b[0;34m=\u001b[0m\u001b[0;36m0.2\u001b[0m\u001b[0;34m,\u001b[0m\u001b[0mlabel\u001b[0m\u001b[0;34m=\u001b[0m\u001b[0;34m'signal'\u001b[0m\u001b[0;34m)\u001b[0m\u001b[0;34m\u001b[0m\u001b[0m\n\u001b[1;32m      6\u001b[0m \u001b[0mplt\u001b[0m\u001b[0;34m.\u001b[0m\u001b[0mxlabel\u001b[0m\u001b[0;34m(\u001b[0m\u001b[0;34mr'Leading jet $p_{T}$ [GeV]'\u001b[0m\u001b[0;34m)\u001b[0m\u001b[0;34m\u001b[0m\u001b[0m\n",
      "\u001b[0;31mNameError\u001b[0m: name 'leadpT_largeRjets' is not defined"
     ]
    },
    {
     "data": {
      "image/png": "[encoded data removed]",
      "text/plain": [
       "<Figure size 432x288 with 1 Axes>"
      ]
     },
     "metadata": {
      "needs_background": "light"
     },
     "output_type": "display_data"
    }
   ],
   "source": [
    "#Let's make some very simple plots.\n",
    "fig = plt.figure()\n",
    "ax = fig.add_subplot(1, 1, 1)\n",
    "n,b,p = plt.hist(leadpT_largeRjets['background'], bins=50, facecolor='r', alpha=0.2,label='background')\n",
    "plt.hist(leadpT_largeRjets['signal'], bins=b, facecolor='b', alpha=0.2,label='signal')\n",
    "plt.xlabel(r'Leading jet $p_{T}$ [GeV]')\n",
    "plt.ylabel('Number of events')\n",
    "plt.legend(loc='upper right')\n",
    "plt.savefig(\"leadjetpt.pdf\")"
   ]
  },
  {
   "cell_type": "code",
   "execution_count": 34,
   "metadata": {},
   "outputs": [],
   "source": [
    "mjj={}\n",
    "for mytype in ['background','signal']:\n",
    "    mjj[mytype]=[]\n",
    "    for k in range(len(all_largeRjets[mytype])):\n",
    "        E = all_largeRjets[mytype][k][0].e+all_largeRjets[mytype][k][1].e\n",
    "        px = all_largeRjets[mytype][k][0].px+all_largeRjets[mytype][k][1].px\n",
    "        py = all_largeRjets[mytype][k][0].py+all_largeRjets[mytype][k][1].py\n",
    "        pz = all_largeRjets[mytype][k][0].pz+all_largeRjets[mytype][k][1].pz\n",
    "        mjj[mytype]+=[(E**2-px**2-py**2-pz**2)**0.5]\n"
   ]
  },
  {
   "cell_type": "code",
   "execution_count": 35,
   "metadata": {},
   "outputs": [
    {
     "data": {
      "image/png": "[encoded data removed]",
      "text/plain": [
       "<Figure size 432x288 with 1 Axes>"
      ]
     },
     "metadata": {
      "needs_background": "light"
     },
     "output_type": "display_data"
    }
   ],
   "source": [
    "fig = plt.figure()\n",
    "ax = fig.add_subplot(1, 1, 1)\n",
    "n,b,p = plt.hist(mjj['background'], bins=50, facecolor='r', alpha=0.2,label='background')\n",
    "plt.hist(mjj['signal'], bins=b, facecolor='b', alpha=0.2,label='signal')\n",
    "plt.xlabel(r'$m_{JJ}$ [GeV]')\n",
    "plt.ylabel('Number of events')\n",
    "plt.legend(loc='upper right')\n",
    "plt.savefig(\"mjj.pdf\")"
   ]
  },
  {
   "cell_type": "code",
   "execution_count": null,
   "metadata": {},
   "outputs": [],
   "source": []
  }
 ],
 "metadata": {
  "kernelspec": {
   "display_name": "Python 3",
   "language": "python",
   "name": "python3"
  },
  "language_info": {
   "codemirror_mode": {
    "name": "ipython",
    "version": 3
   },
   "file_extension": ".py",
   "mimetype": "text/x-python",
   "name": "python",
   "nbconvert_exporter": "python",
   "pygments_lexer": "ipython3",
   "version": "3.7.0"
  }
 },
 "nbformat": 4,
 "nbformat_minor": 2
}
